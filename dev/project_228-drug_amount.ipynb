{
  "cells": [
    {
      "cell_type": "code",
      "execution_count": null,
      "metadata": {
        "colab": {
          "base_uri": "https://localhost:8080/"
        },
        "id": "x3Ij4-727fz8",
        "outputId": "b958efdc-bcc5-4970-8a20-4a86c7e353bf"
      },
      "outputs": [
        {
          "output_type": "stream",
          "name": "stdout",
          "text": [
            "Requirement already satisfied: transformers in /usr/local/lib/python3.11/dist-packages (4.51.3)\n",
            "Requirement already satisfied: filelock in /usr/local/lib/python3.11/dist-packages (from transformers) (3.18.0)\n",
            "Requirement already satisfied: huggingface-hub<1.0,>=0.30.0 in /usr/local/lib/python3.11/dist-packages (from transformers) (0.31.2)\n",
            "Requirement already satisfied: numpy>=1.17 in /usr/local/lib/python3.11/dist-packages (from transformers) (2.0.2)\n",
            "Requirement already satisfied: packaging>=20.0 in /usr/local/lib/python3.11/dist-packages (from transformers) (24.2)\n",
            "Requirement already satisfied: pyyaml>=5.1 in /usr/local/lib/python3.11/dist-packages (from transformers) (6.0.2)\n",
            "Requirement already satisfied: regex!=2019.12.17 in /usr/local/lib/python3.11/dist-packages (from transformers) (2024.11.6)\n",
            "Requirement already satisfied: requests in /usr/local/lib/python3.11/dist-packages (from transformers) (2.32.3)\n",
            "Requirement already satisfied: tokenizers<0.22,>=0.21 in /usr/local/lib/python3.11/dist-packages (from transformers) (0.21.1)\n",
            "Requirement already satisfied: safetensors>=0.4.3 in /usr/local/lib/python3.11/dist-packages (from transformers) (0.5.3)\n",
            "Requirement already satisfied: tqdm>=4.27 in /usr/local/lib/python3.11/dist-packages (from transformers) (4.67.1)\n",
            "Requirement already satisfied: fsspec>=2023.5.0 in /usr/local/lib/python3.11/dist-packages (from huggingface-hub<1.0,>=0.30.0->transformers) (2025.3.2)\n",
            "Requirement already satisfied: typing-extensions>=3.7.4.3 in /usr/local/lib/python3.11/dist-packages (from huggingface-hub<1.0,>=0.30.0->transformers) (4.13.2)\n",
            "Requirement already satisfied: charset-normalizer<4,>=2 in /usr/local/lib/python3.11/dist-packages (from requests->transformers) (3.4.2)\n",
            "Requirement already satisfied: idna<4,>=2.5 in /usr/local/lib/python3.11/dist-packages (from requests->transformers) (3.10)\n",
            "Requirement already satisfied: urllib3<3,>=1.21.1 in /usr/local/lib/python3.11/dist-packages (from requests->transformers) (2.4.0)\n",
            "Requirement already satisfied: certifi>=2017.4.17 in /usr/local/lib/python3.11/dist-packages (from requests->transformers) (2025.4.26)\n",
            "Requirement already satisfied: datasets in /usr/local/lib/python3.11/dist-packages (2.14.4)\n",
            "Requirement already satisfied: numpy>=1.17 in /usr/local/lib/python3.11/dist-packages (from datasets) (2.0.2)\n",
            "Requirement already satisfied: pyarrow>=8.0.0 in /usr/local/lib/python3.11/dist-packages (from datasets) (18.1.0)\n",
            "Requirement already satisfied: dill<0.3.8,>=0.3.0 in /usr/local/lib/python3.11/dist-packages (from datasets) (0.3.7)\n",
            "Requirement already satisfied: pandas in /usr/local/lib/python3.11/dist-packages (from datasets) (2.2.2)\n",
            "Requirement already satisfied: requests>=2.19.0 in /usr/local/lib/python3.11/dist-packages (from datasets) (2.32.3)\n",
            "Requirement already satisfied: tqdm>=4.62.1 in /usr/local/lib/python3.11/dist-packages (from datasets) (4.67.1)\n",
            "Requirement already satisfied: xxhash in /usr/local/lib/python3.11/dist-packages (from datasets) (3.5.0)\n",
            "Requirement already satisfied: multiprocess in /usr/local/lib/python3.11/dist-packages (from datasets) (0.70.15)\n",
            "Requirement already satisfied: fsspec>=2021.11.1 in /usr/local/lib/python3.11/dist-packages (from fsspec[http]>=2021.11.1->datasets) (2025.3.2)\n",
            "Requirement already satisfied: aiohttp in /usr/local/lib/python3.11/dist-packages (from datasets) (3.11.15)\n",
            "Requirement already satisfied: huggingface-hub<1.0.0,>=0.14.0 in /usr/local/lib/python3.11/dist-packages (from datasets) (0.31.2)\n",
            "Requirement already satisfied: packaging in /usr/local/lib/python3.11/dist-packages (from datasets) (24.2)\n",
            "Requirement already satisfied: pyyaml>=5.1 in /usr/local/lib/python3.11/dist-packages (from datasets) (6.0.2)\n",
            "Requirement already satisfied: aiohappyeyeballs>=2.3.0 in /usr/local/lib/python3.11/dist-packages (from aiohttp->datasets) (2.6.1)\n",
            "Requirement already satisfied: aiosignal>=1.1.2 in /usr/local/lib/python3.11/dist-packages (from aiohttp->datasets) (1.3.2)\n",
            "Requirement already satisfied: attrs>=17.3.0 in /usr/local/lib/python3.11/dist-packages (from aiohttp->datasets) (25.3.0)\n",
            "Requirement already satisfied: frozenlist>=1.1.1 in /usr/local/lib/python3.11/dist-packages (from aiohttp->datasets) (1.6.0)\n",
            "Requirement already satisfied: multidict<7.0,>=4.5 in /usr/local/lib/python3.11/dist-packages (from aiohttp->datasets) (6.4.3)\n",
            "Requirement already satisfied: propcache>=0.2.0 in /usr/local/lib/python3.11/dist-packages (from aiohttp->datasets) (0.3.1)\n",
            "Requirement already satisfied: yarl<2.0,>=1.17.0 in /usr/local/lib/python3.11/dist-packages (from aiohttp->datasets) (1.20.0)\n",
            "Requirement already satisfied: filelock in /usr/local/lib/python3.11/dist-packages (from huggingface-hub<1.0.0,>=0.14.0->datasets) (3.18.0)\n",
            "Requirement already satisfied: typing-extensions>=3.7.4.3 in /usr/local/lib/python3.11/dist-packages (from huggingface-hub<1.0.0,>=0.14.0->datasets) (4.13.2)\n",
            "Requirement already satisfied: charset-normalizer<4,>=2 in /usr/local/lib/python3.11/dist-packages (from requests>=2.19.0->datasets) (3.4.2)\n",
            "Requirement already satisfied: idna<4,>=2.5 in /usr/local/lib/python3.11/dist-packages (from requests>=2.19.0->datasets) (3.10)\n",
            "Requirement already satisfied: urllib3<3,>=1.21.1 in /usr/local/lib/python3.11/dist-packages (from requests>=2.19.0->datasets) (2.4.0)\n",
            "Requirement already satisfied: certifi>=2017.4.17 in /usr/local/lib/python3.11/dist-packages (from requests>=2.19.0->datasets) (2025.4.26)\n",
            "Requirement already satisfied: python-dateutil>=2.8.2 in /usr/local/lib/python3.11/dist-packages (from pandas->datasets) (2.9.0.post0)\n",
            "Requirement already satisfied: pytz>=2020.1 in /usr/local/lib/python3.11/dist-packages (from pandas->datasets) (2025.2)\n",
            "Requirement already satisfied: tzdata>=2022.7 in /usr/local/lib/python3.11/dist-packages (from pandas->datasets) (2025.2)\n",
            "Requirement already satisfied: six>=1.5 in /usr/local/lib/python3.11/dist-packages (from python-dateutil>=2.8.2->pandas->datasets) (1.17.0)\n"
          ]
        }
      ],
      "source": [
        "!pip install transformers\n",
        "!pip install datasets"
      ]
    },
    {
      "cell_type": "code",
      "execution_count": null,
      "metadata": {
        "id": "_DaTdqlgvrPe"
      },
      "outputs": [],
      "source": []
    },
    {
      "cell_type": "markdown",
      "metadata": {
        "id": "sM3scYOtzIp_"
      },
      "source": [
        "# подготовка данных"
      ]
    },
    {
      "cell_type": "code",
      "execution_count": 1,
      "metadata": {
        "collapsed": true,
        "id": "22tJqQpYzdMX"
      },
      "outputs": [],
      "source": [
        "# тут мы подгружаем датасет\n",
        "import pandas as pd\n",
        "from datasets import Dataset\n",
        "\n",
        "# df_0k1k = pd.read_csv('cases_random_0kto1k.csv')\n",
        "# df_1k2k = pd.read_csv('cases_random_1kto2k.csv')\n",
        "# df_2k3k = pd.read_csv('cases_random_2kto3k.csv')\n",
        "# df_3k4k = pd.read_csv('cases_random_3kto4k.csv')\n",
        "# df_4k5k = pd.read_csv('cases_random_4kto5k.csv')\n",
        "# df_5k6k = pd.read_csv('cases_random_5kto6k.csv')\n",
        "# df_6k7k = pd.read_csv('cases_random_6kto7k.csv')\n",
        "# df_7k8k = pd.read_csv('cases_random_7kto8k.csv')\n",
        "# df_8k9k = pd.read_csv('cases_random_8kto9k.csv')\n",
        "df_9k10k = pd.read_csv('cases_random_9kto10k.csv')"
      ]
    },
    {
      "cell_type": "code",
      "execution_count": 2,
      "metadata": {
        "id": "v4M-Qg5qujwi"
      },
      "outputs": [],
      "source": [
        "# df_50 = pd.read_csv('example50.csv')  # сейчас тут 50 строк, нужно добавить тексты приговоров до 150\n",
        "# df_100 = pd.read_csv('example100.csv')\n",
        "df_150 = pd.read_csv('example150.csv')"
      ]
    },
    {
      "cell_type": "code",
      "execution_count": 3,
      "metadata": {
        "id": "4L7-gwdTzQQb"
      },
      "outputs": [],
      "source": [
        "# тут мы выделяем последнюю часть текста, в которой содержится информация о статьях и наказании\n",
        "import re\n",
        "\n",
        "def extract_text_part(text):\n",
        "    import re\n",
        "    if not isinstance(text, str):\n",
        "        return \"\"\n",
        "    match1 = re.search(r\"(составляет|является|составляло|являлось|)\\s*[:]\", text.lower())\n",
        "    if match1:\n",
        "      match2 = re.search(r\"(размер|размера|размером)\", text[match1.end():].lower())\n",
        "    if match1 and match2:\n",
        "        return text[match1.end():match2.start()].strip()\n",
        "    else:\n",
        "        return text  # если нет, брать весь текст"
      ]
    },
    {
      "cell_type": "markdown",
      "metadata": {
        "id": "NU4o6IaL3Ctg"
      },
      "source": [
        "# подключение и обучение модели"
      ]
    },
    {
      "cell_type": "code",
      "execution_count": 4,
      "metadata": {
        "id": "OOTerXBhIFMk"
      },
      "outputs": [],
      "source": [
        "# это чтобы не подключаться к WabdB и чтобы он не беспокоил просьбами об апи ключе\n",
        "import os\n",
        "os.environ[\"WANDB_DISABLED\"] = \"true\""
      ]
    },
    {
      "cell_type": "code",
      "execution_count": 6,
      "metadata": {
        "colab": {
          "base_uri": "https://localhost:8080/",
          "height": 102,
          "referenced_widgets": [
            "a4591a83950c41109ecf223c3f835356",
            "24dffa92ef134b33a755206b7c527f96",
            "8b6f39ee1f154fb89d04c41b637c2138",
            "b1df271772644452ac967b61f937a147",
            "02a2ffb7bd3d4dc18a5ddc7391e16b03",
            "4cfabdd620144783b048f7561ebd9c94",
            "be331ef79db741c8bbd96afb0a8a3afe",
            "22c1863a10684561af8feecf93858040",
            "438a249535814d20be3676c531102fc4",
            "b0c4fb0b3f1640538511e6492f196206",
            "55adf16781ce48209cd697f933255aa4"
          ]
        },
        "id": "1OwlRmmKzRZR",
        "outputId": "15d864b1-f829-4e92-b899-7049ef9e3daf"
      },
      "outputs": [
        {
          "output_type": "stream",
          "name": "stderr",
          "text": [
            "Some weights of BertForSequenceClassification were not initialized from the model checkpoint at DeepPavlov/rubert-base-cased and are newly initialized: ['classifier.bias', 'classifier.weight']\n",
            "You should probably TRAIN this model on a down-stream task to be able to use it for predictions and inference.\n"
          ]
        },
        {
          "output_type": "display_data",
          "data": {
            "text/plain": [
              "Map:   0%|          | 0/149 [00:00<?, ? examples/s]"
            ],
            "application/vnd.jupyter.widget-view+json": {
              "version_major": 2,
              "version_minor": 0,
              "model_id": "a4591a83950c41109ecf223c3f835356"
            }
          },
          "metadata": {}
        }
      ],
      "source": [
        "# подключаемся к большой модели, обученной на русском языке, с пайпланом классификации текстов\n",
        "from transformers import BertTokenizer, BertForSequenceClassification, Trainer, TrainingArguments\n",
        "import torch\n",
        "\n",
        "tokenizer = BertTokenizer.from_pretrained('DeepPavlov/rubert-base-cased')\n",
        "model = BertForSequenceClassification.from_pretrained('DeepPavlov/rubert-base-cased', num_labels=3)\n",
        "\n",
        "# Метки\n",
        "label2id = {\n",
        "    \"значительный\": 0,\n",
        "    \"крупный\": 1,\n",
        "    \"особо крупный\": 2\n",
        "}\n",
        "id2label = {v: k for k, v in label2id.items()}\n",
        "\n",
        "def preprocess(example):\n",
        "    text = extract_text_part(example['result_text'])\n",
        "    encoding = tokenizer(text, truncation=True, padding='max_length', max_length=512)\n",
        "    encoding['labels'] = label2id[example['drug_amount']]\n",
        "    return encoding\n",
        "\n",
        "# берем из размеченного нами датасета только текст приговора и нужную сейчас характеристику (amount)\n",
        "train_dataset = Dataset.from_pandas(df_150[['result_text', 'drug_amount']])\n",
        "train_dataset = train_dataset.map(preprocess, batched=False)"
      ]
    },
    {
      "cell_type": "code",
      "source": [
        "import torch\n",
        "\n",
        "# class weights — инверсно пропорционально частотам\n",
        "class_counts = torch.tensor([110, 39, 0], dtype=torch.float)\n",
        "class_weights = 1.0 / (class_counts + 1)\n",
        "class_weights = class_weights / class_weights.sum()  # нормировка\n",
        "\n",
        "class_weights = class_weights.to(torch.device(\"cuda\" if torch.cuda.is_available() else \"cpu\"))"
      ],
      "metadata": {
        "id": "gGRJeOSsRzFw"
      },
      "execution_count": 7,
      "outputs": []
    },
    {
      "cell_type": "code",
      "source": [
        "# настройка обучения\n",
        "from transformers import Trainer\n",
        "from torch.nn import CrossEntropyLoss\n",
        "\n",
        "training_args = TrainingArguments(\n",
        "    output_dir=\"./results\",\n",
        "    # evaluation_strategy=\"epoch\",\n",
        "    num_train_epochs=5,\n",
        "    per_device_train_batch_size=8,\n",
        "    save_steps=10_000,\n",
        "    save_total_limit=2,\n",
        "    logging_dir='./logs',\n",
        ")\n",
        "\n",
        "class WeightedTrainer(Trainer):\n",
        "    def compute_loss(self, model, inputs, return_outputs=False, num_items_in_batch=None):\n",
        "        labels = inputs.pop(\"labels\")\n",
        "        outputs = model(**inputs)\n",
        "        logits = outputs.logits\n",
        "        loss_fct = CrossEntropyLoss(weight=class_weights)\n",
        "        loss = loss_fct(logits, labels)\n",
        "        return (loss, outputs) if return_outputs else loss\n",
        "\n",
        "trainer = WeightedTrainer(\n",
        "    model=model,\n",
        "    args=training_args,\n",
        "    train_dataset=train_dataset,\n",
        ")\n",
        "trainer.train()"
      ],
      "metadata": {
        "colab": {
          "base_uri": "https://localhost:8080/",
          "height": 143
        },
        "id": "9cClQhpWR0P8",
        "outputId": "2ce93a42-b6cc-4afc-8c76-c10fd0e21fb6"
      },
      "execution_count": 8,
      "outputs": [
        {
          "output_type": "stream",
          "name": "stderr",
          "text": [
            "Using the `WANDB_DISABLED` environment variable is deprecated and will be removed in v5. Use the --report_to flag to control the integrations used for logging result (for instance --report_to none).\n"
          ]
        },
        {
          "output_type": "display_data",
          "data": {
            "text/plain": [
              "<IPython.core.display.HTML object>"
            ],
            "text/html": [
              "\n",
              "    <div>\n",
              "      \n",
              "      <progress value='95' max='95' style='width:300px; height:20px; vertical-align: middle;'></progress>\n",
              "      [95/95 01:17, Epoch 5/5]\n",
              "    </div>\n",
              "    <table border=\"1\" class=\"dataframe\">\n",
              "  <thead>\n",
              " <tr style=\"text-align: left;\">\n",
              "      <th>Step</th>\n",
              "      <th>Training Loss</th>\n",
              "    </tr>\n",
              "  </thead>\n",
              "  <tbody>\n",
              "  </tbody>\n",
              "</table><p>"
            ]
          },
          "metadata": {}
        },
        {
          "output_type": "execute_result",
          "data": {
            "text/plain": [
              "TrainOutput(global_step=95, training_loss=0.6918534128289474, metrics={'train_runtime': 79.2026, 'train_samples_per_second': 9.406, 'train_steps_per_second': 1.199, 'total_flos': 196019496207360.0, 'train_loss': 0.6918534128289474, 'epoch': 5.0})"
            ]
          },
          "metadata": {},
          "execution_count": 8
        }
      ]
    },
    {
      "cell_type": "code",
      "execution_count": 9,
      "metadata": {
        "colab": {
          "base_uri": "https://localhost:8080/",
          "height": 0
        },
        "id": "xblezTcqzkkJ",
        "outputId": "3e805fa4-eee6-4d0b-ba21-97c069088993"
      },
      "outputs": [
        {
          "output_type": "execute_result",
          "data": {
            "text/plain": [
              "('./my_model/tokenizer_config.json',\n",
              " './my_model/special_tokens_map.json',\n",
              " './my_model/vocab.txt',\n",
              " './my_model/added_tokens.json')"
            ]
          },
          "metadata": {},
          "execution_count": 9
        }
      ],
      "source": [
        "# сохраняем модель и токенизатор, чтобы потом снова не обучать (ну, придется обучить еще раз на датасете из 150 кейсов)\n",
        "model.save_pretrained(\"./my_model\")\n",
        "tokenizer.save_pretrained(\"./my_model\")"
      ]
    },
    {
      "cell_type": "markdown",
      "metadata": {
        "id": "gIpirgPN3MQL"
      },
      "source": [
        "# загрузка нашей обученной модели и предсказание значений"
      ]
    },
    {
      "cell_type": "code",
      "execution_count": 10,
      "metadata": {
        "colab": {
          "base_uri": "https://localhost:8080/",
          "height": 0
        },
        "id": "W1SyeNLENMxT",
        "outputId": "c2595241-19b8-4cf3-c640-4e4c18e15d86"
      },
      "outputs": [
        {
          "output_type": "execute_result",
          "data": {
            "text/plain": [
              "BertForSequenceClassification(\n",
              "  (bert): BertModel(\n",
              "    (embeddings): BertEmbeddings(\n",
              "      (word_embeddings): Embedding(119547, 768, padding_idx=0)\n",
              "      (position_embeddings): Embedding(512, 768)\n",
              "      (token_type_embeddings): Embedding(2, 768)\n",
              "      (LayerNorm): LayerNorm((768,), eps=1e-12, elementwise_affine=True)\n",
              "      (dropout): Dropout(p=0.1, inplace=False)\n",
              "    )\n",
              "    (encoder): BertEncoder(\n",
              "      (layer): ModuleList(\n",
              "        (0-11): 12 x BertLayer(\n",
              "          (attention): BertAttention(\n",
              "            (self): BertSdpaSelfAttention(\n",
              "              (query): Linear(in_features=768, out_features=768, bias=True)\n",
              "              (key): Linear(in_features=768, out_features=768, bias=True)\n",
              "              (value): Linear(in_features=768, out_features=768, bias=True)\n",
              "              (dropout): Dropout(p=0.1, inplace=False)\n",
              "            )\n",
              "            (output): BertSelfOutput(\n",
              "              (dense): Linear(in_features=768, out_features=768, bias=True)\n",
              "              (LayerNorm): LayerNorm((768,), eps=1e-12, elementwise_affine=True)\n",
              "              (dropout): Dropout(p=0.1, inplace=False)\n",
              "            )\n",
              "          )\n",
              "          (intermediate): BertIntermediate(\n",
              "            (dense): Linear(in_features=768, out_features=3072, bias=True)\n",
              "            (intermediate_act_fn): GELUActivation()\n",
              "          )\n",
              "          (output): BertOutput(\n",
              "            (dense): Linear(in_features=3072, out_features=768, bias=True)\n",
              "            (LayerNorm): LayerNorm((768,), eps=1e-12, elementwise_affine=True)\n",
              "            (dropout): Dropout(p=0.1, inplace=False)\n",
              "          )\n",
              "        )\n",
              "      )\n",
              "    )\n",
              "    (pooler): BertPooler(\n",
              "      (dense): Linear(in_features=768, out_features=768, bias=True)\n",
              "      (activation): Tanh()\n",
              "    )\n",
              "  )\n",
              "  (dropout): Dropout(p=0.1, inplace=False)\n",
              "  (classifier): Linear(in_features=768, out_features=3, bias=True)\n",
              ")"
            ]
          },
          "metadata": {},
          "execution_count": 10
        }
      ],
      "source": [
        "# загружаем нашу обученную на примере модель\n",
        "from transformers import BertTokenizer, BertForSequenceClassification\n",
        "\n",
        "model = BertForSequenceClassification.from_pretrained(\"./my_model\")\n",
        "tokenizer = BertTokenizer.from_pretrained(\"./my_model\")\n",
        "model.eval()  # переводим в режим инференса"
      ]
    },
    {
      "cell_type": "code",
      "execution_count": 11,
      "metadata": {
        "id": "olQ2VLMbNdIa"
      },
      "outputs": [],
      "source": [
        "# предсказываем значение характеристики для неразмеченного большого датасета\n",
        "from torch import no_grad\n",
        "\n",
        "def predict_amount(text):\n",
        "    text = extract_text_part(text)\n",
        "    inputs = tokenizer(text, return_tensors=\"pt\", truncation=True, padding='max_length', max_length=512)\n",
        "    with no_grad():\n",
        "        outputs = model(**inputs)\n",
        "        logits = outputs.logits\n",
        "        predicted_class_id = logits.argmax().item()\n",
        "    return id2label[predicted_class_id]\n",
        "\n"
      ]
    },
    {
      "cell_type": "code",
      "execution_count": null,
      "metadata": {
        "id": "3-r3Guq7a0ue"
      },
      "outputs": [],
      "source": [
        "# 1k\n",
        "big_df = df_0k1k\n",
        "big_df['predicted_amount'] = big_df['result_text'].apply(predict_amount)\n",
        "# big_df.to_csv(\"predicted_df_0k1k.csv\", index=False)\n",
        "\n",
        "predicted_amount_df_0k1k = big_df[['id', 'predicted_amount']]\n",
        "predicted_amount_df_0k1k.to_csv(\"predicted_amount_0k1k.csv\", index=False)"
      ]
    },
    {
      "cell_type": "code",
      "execution_count": null,
      "metadata": {
        "id": "akbdMlsCgdCe"
      },
      "outputs": [],
      "source": [
        "# 1k to 2k\n",
        "big_df = df_1k2k\n",
        "big_df['predicted_amount'] = big_df['result_text'].apply(predict_amount)\n",
        "# big_df.to_csv(\"predicted_df_1k2k.csv\", index=False)\n",
        "\n",
        "predicted_amount_df_1k2k = big_df[['id', 'predicted_amount']]\n",
        "predicted_amount_df_1k2k.to_csv(\"predicted_amount_1k2k.csv\", index=False)"
      ]
    },
    {
      "cell_type": "code",
      "execution_count": null,
      "metadata": {
        "id": "UFehF5bgpUac"
      },
      "outputs": [],
      "source": [
        "# 2k to 3k\n",
        "big_df = df_2k3k\n",
        "big_df['predicted_amount'] = big_df['result_text'].apply(predict_amount)\n",
        "# big_df.to_csv(\"predicted_df_2k3k.csv\", index=False)\n",
        "\n",
        "predicted_amount_df_2k3k = big_df[['id', 'predicted_amount']]\n",
        "predicted_amount_df_2k3k.to_csv(\"predicted_amount_2k3k.csv\", index=False)"
      ]
    },
    {
      "cell_type": "code",
      "execution_count": null,
      "metadata": {
        "id": "hPy0WV9CpUda"
      },
      "outputs": [],
      "source": [
        "# 3k to 4k\n",
        "big_df = df_3k4k\n",
        "big_df['predicted_amount'] = big_df['result_text'].apply(predict_amount)\n",
        "# big_df.to_csv(\"predicted_df_3k4k.csv\", index=False)\n",
        "\n",
        "predicted_amount_df_3k4k = big_df[['id', 'predicted_amount']]\n",
        "predicted_amount_df_3k4k.to_csv(\"predicted_amount_3k4k.csv\", index=False)"
      ]
    },
    {
      "cell_type": "code",
      "execution_count": null,
      "metadata": {
        "id": "3GvTPADf0Vl4"
      },
      "outputs": [],
      "source": [
        "# 4k to 5k\n",
        "big_df = df_4k5k\n",
        "big_df['predicted_amount'] = big_df['result_text'].apply(predict_amount)\n",
        "# big_df.to_csv(\"predicted_df_4k5k.csv\", index=False)\n",
        "\n",
        "predicted_amount_df_4k5k = big_df[['id', 'predicted_amount']]\n",
        "predicted_amount_df_4k5k.to_csv(\"predicted_amount_4k5k.csv\", index=False)"
      ]
    },
    {
      "cell_type": "code",
      "execution_count": null,
      "metadata": {
        "id": "vAMWlj210i8k"
      },
      "outputs": [],
      "source": [
        "# 5k to 6k\n",
        "big_df = df_5k6k\n",
        "big_df['predicted_amount'] = big_df['result_text'].apply(predict_amount)\n",
        "# big_df.to_csv(\"predicted_df_5k6k.csv\", index=False)\n",
        "\n",
        "predicted_amount_df_5k6k = big_df[['id', 'predicted_amount']]\n",
        "predicted_amount_df_5k6k.to_csv(\"predicted_amount_5k6k.csv\", index=False)"
      ]
    },
    {
      "cell_type": "code",
      "execution_count": null,
      "metadata": {
        "id": "ZDSe2HlV0pxC"
      },
      "outputs": [],
      "source": [
        "# 6k to 7k\n",
        "big_df = df_6k7k\n",
        "big_df['predicted_amount'] = big_df['result_text'].apply(predict_amount)\n",
        "# big_df.to_csv(\"predicted_df_6k7k.csv\", index=False)\n",
        "\n",
        "predicted_amount_df_6k7k = big_df[['id', 'predicted_amount']]\n",
        "predicted_amount_df_6k7k.to_csv(\"predicted_amount_6k7k.csv\", index=False)"
      ]
    },
    {
      "cell_type": "code",
      "execution_count": null,
      "metadata": {
        "id": "TxiFs92f0qMo"
      },
      "outputs": [],
      "source": [
        "# 7k to 8k\n",
        "big_df = df_7k8k\n",
        "big_df['predicted_amount'] = big_df['result_text'].apply(predict_amount)\n",
        "# big_df.to_csv(\"predicted_df_7k8k.csv\", index=False)\n",
        "\n",
        "predicted_amount_df_7k8k = big_df[['id', 'predicted_amount']]\n",
        "predicted_amount_df_7k8k.to_csv(\"predicted_amount_7k8k.csv\", index=False)"
      ]
    },
    {
      "cell_type": "code",
      "execution_count": null,
      "metadata": {
        "id": "cpMrBy930qsa"
      },
      "outputs": [],
      "source": [
        "# 8k to 9k\n",
        "big_df = df_8k9k\n",
        "big_df['predicted_amount'] = big_df['result_text'].apply(predict_amount)\n",
        "# big_df.to_csv(\"predicted_df_8k9k.csv\", index=False)\n",
        "\n",
        "predicted_amount_df_8k9k = big_df[['id', 'predicted_amount']]\n",
        "predicted_amount_df_8k9k.to_csv(\"predicted_amount_8k9k.csv\", index=False)"
      ]
    },
    {
      "cell_type": "code",
      "execution_count": 12,
      "metadata": {
        "id": "8UjVU78s0vZc"
      },
      "outputs": [],
      "source": [
        "# 9k to 10k\n",
        "big_df = df_9k10k\n",
        "big_df['predicted_amount'] = big_df['result_text'].apply(predict_amount)\n",
        "# big_df.to_csv(\"predicted_df_9k10k.csv\", index=False)\n",
        "\n",
        "predicted_amount_df_9k10k = big_df[['id', 'predicted_amount']]\n",
        "predicted_amount_df_9k10k.to_csv(\"predicted_amount_9k10k.csv\", index=False)"
      ]
    },
    {
      "cell_type": "code",
      "execution_count": null,
      "metadata": {
        "id": "ebs83zXUWArP"
      },
      "outputs": [],
      "source": [
        "# for 100 cases\n",
        "big_df = df_100\n",
        "big_df['predicted_amount'] = big_df['result_text'].apply(predict_amount)\n",
        "# big_df.to_csv(\"predicted_df_ex100.csv\", index=False)\n",
        "\n",
        "predicted_df_100 = big_df\n",
        "predicted_amount_df_ex100 = big_df[['id', 'predicted_amount']]\n",
        "predicted_amount_df_ex100.to_csv(\"predicted_amount_ex100.csv\", index=False)"
      ]
    },
    {
      "cell_type": "code",
      "execution_count": null,
      "metadata": {
        "id": "wWzLPGsVY-Cz"
      },
      "outputs": [],
      "source": [
        "# for 150 cases\n",
        "big_df = df_150\n",
        "big_df['predicted_amount'] = big_df['result_text'].apply(predict_amount)\n",
        "# big_df.to_csv(\"predicted_df_ex150.csv\", index=False)\n",
        "\n",
        "predicted_df_150 = big_df\n",
        "predicted_amount_df_ex150 = big_df[['id', 'predicted_amount']]\n",
        "predicted_amount_df_ex150.to_csv(\"predicted_amount_ex150.csv\", index=False)"
      ]
    },
    {
      "cell_type": "markdown",
      "metadata": {
        "id": "m5GEMkSI3jkH"
      },
      "source": [
        "# расчёт метрик accuracy и macro F1"
      ]
    },
    {
      "cell_type": "code",
      "execution_count": null,
      "metadata": {
        "colab": {
          "base_uri": "https://localhost:8080/"
        },
        "id": "Omp4A38DNXqs",
        "outputId": "b9e1042e-6ba8-4e36-de04-deda74a6f55a"
      },
      "outputs": [
        {
          "output_type": "stream",
          "name": "stdout",
          "text": [
            "Accuracy: 0.9060\n",
            "Macro F1-score: 0.8607\n",
            "              precision    recall  f1-score   support\n",
            "\n",
            "значительный       0.89      1.00      0.94       110\n",
            "     крупный       1.00      0.64      0.78        39\n",
            "\n",
            "    accuracy                           0.91       149\n",
            "   macro avg       0.94      0.82      0.86       149\n",
            "weighted avg       0.92      0.91      0.90       149\n",
            "\n"
          ]
        }
      ],
      "source": [
        "# расчет таких метрик не актуален, потому что у нас нет колонки с истинными значениями\n",
        "# можем посчитать эти метрики только для других размеченных частей (например, обучить на 50 и проверить на 100 строках)\n",
        "\n",
        "from sklearn.metrics import accuracy_score, f1_score, classification_report\n",
        "\n",
        "# accuracy\n",
        "accuracy = accuracy_score(big_df['drug_amount'], big_df['predicted_amount'])\n",
        "\n",
        "# F1 (макроусреднение – чтобы учитывать все классы одинаково)\n",
        "f1 = f1_score(big_df['drug_amount'], big_df['predicted_amount'], average='macro')\n",
        "\n",
        "print(f\"Accuracy: {accuracy:.4f}\")\n",
        "print(f\"Macro F1-score: {f1:.4f}\")\n",
        "\n",
        "# более подробный отчёт по каждому классу:\n",
        "print(classification_report(big_df['drug_amount'], big_df['predicted_amount']))"
      ]
    },
    {
      "cell_type": "code",
      "source": [],
      "metadata": {
        "id": "39T5rDUv3gO8"
      },
      "execution_count": null,
      "outputs": []
    }
  ],
  "metadata": {
    "accelerator": "GPU",
    "colab": {
      "gpuType": "T4",
      "provenance": []
    },
    "kernelspec": {
      "display_name": "Python 3",
      "name": "python3"
    },
    "language_info": {
      "name": "python"
    },
    "widgets": {
      "application/vnd.jupyter.widget-state+json": {
        "a4591a83950c41109ecf223c3f835356": {
          "model_module": "@jupyter-widgets/controls",
          "model_name": "HBoxModel",
          "model_module_version": "1.5.0",
          "state": {
            "_dom_classes": [],
            "_model_module": "@jupyter-widgets/controls",
            "_model_module_version": "1.5.0",
            "_model_name": "HBoxModel",
            "_view_count": null,
            "_view_module": "@jupyter-widgets/controls",
            "_view_module_version": "1.5.0",
            "_view_name": "HBoxView",
            "box_style": "",
            "children": [
              "IPY_MODEL_24dffa92ef134b33a755206b7c527f96",
              "IPY_MODEL_8b6f39ee1f154fb89d04c41b637c2138",
              "IPY_MODEL_b1df271772644452ac967b61f937a147"
            ],
            "layout": "IPY_MODEL_02a2ffb7bd3d4dc18a5ddc7391e16b03"
          }
        },
        "24dffa92ef134b33a755206b7c527f96": {
          "model_module": "@jupyter-widgets/controls",
          "model_name": "HTMLModel",
          "model_module_version": "1.5.0",
          "state": {
            "_dom_classes": [],
            "_model_module": "@jupyter-widgets/controls",
            "_model_module_version": "1.5.0",
            "_model_name": "HTMLModel",
            "_view_count": null,
            "_view_module": "@jupyter-widgets/controls",
            "_view_module_version": "1.5.0",
            "_view_name": "HTMLView",
            "description": "",
            "description_tooltip": null,
            "layout": "IPY_MODEL_4cfabdd620144783b048f7561ebd9c94",
            "placeholder": "​",
            "style": "IPY_MODEL_be331ef79db741c8bbd96afb0a8a3afe",
            "value": "Map: 100%"
          }
        },
        "8b6f39ee1f154fb89d04c41b637c2138": {
          "model_module": "@jupyter-widgets/controls",
          "model_name": "FloatProgressModel",
          "model_module_version": "1.5.0",
          "state": {
            "_dom_classes": [],
            "_model_module": "@jupyter-widgets/controls",
            "_model_module_version": "1.5.0",
            "_model_name": "FloatProgressModel",
            "_view_count": null,
            "_view_module": "@jupyter-widgets/controls",
            "_view_module_version": "1.5.0",
            "_view_name": "ProgressView",
            "bar_style": "success",
            "description": "",
            "description_tooltip": null,
            "layout": "IPY_MODEL_22c1863a10684561af8feecf93858040",
            "max": 149,
            "min": 0,
            "orientation": "horizontal",
            "style": "IPY_MODEL_438a249535814d20be3676c531102fc4",
            "value": 149
          }
        },
        "b1df271772644452ac967b61f937a147": {
          "model_module": "@jupyter-widgets/controls",
          "model_name": "HTMLModel",
          "model_module_version": "1.5.0",
          "state": {
            "_dom_classes": [],
            "_model_module": "@jupyter-widgets/controls",
            "_model_module_version": "1.5.0",
            "_model_name": "HTMLModel",
            "_view_count": null,
            "_view_module": "@jupyter-widgets/controls",
            "_view_module_version": "1.5.0",
            "_view_name": "HTMLView",
            "description": "",
            "description_tooltip": null,
            "layout": "IPY_MODEL_b0c4fb0b3f1640538511e6492f196206",
            "placeholder": "​",
            "style": "IPY_MODEL_55adf16781ce48209cd697f933255aa4",
            "value": " 149/149 [00:00&lt;00:00, 403.16 examples/s]"
          }
        },
        "02a2ffb7bd3d4dc18a5ddc7391e16b03": {
          "model_module": "@jupyter-widgets/base",
          "model_name": "LayoutModel",
          "model_module_version": "1.2.0",
          "state": {
            "_model_module": "@jupyter-widgets/base",
            "_model_module_version": "1.2.0",
            "_model_name": "LayoutModel",
            "_view_count": null,
            "_view_module": "@jupyter-widgets/base",
            "_view_module_version": "1.2.0",
            "_view_name": "LayoutView",
            "align_content": null,
            "align_items": null,
            "align_self": null,
            "border": null,
            "bottom": null,
            "display": null,
            "flex": null,
            "flex_flow": null,
            "grid_area": null,
            "grid_auto_columns": null,
            "grid_auto_flow": null,
            "grid_auto_rows": null,
            "grid_column": null,
            "grid_gap": null,
            "grid_row": null,
            "grid_template_areas": null,
            "grid_template_columns": null,
            "grid_template_rows": null,
            "height": null,
            "justify_content": null,
            "justify_items": null,
            "left": null,
            "margin": null,
            "max_height": null,
            "max_width": null,
            "min_height": null,
            "min_width": null,
            "object_fit": null,
            "object_position": null,
            "order": null,
            "overflow": null,
            "overflow_x": null,
            "overflow_y": null,
            "padding": null,
            "right": null,
            "top": null,
            "visibility": null,
            "width": null
          }
        },
        "4cfabdd620144783b048f7561ebd9c94": {
          "model_module": "@jupyter-widgets/base",
          "model_name": "LayoutModel",
          "model_module_version": "1.2.0",
          "state": {
            "_model_module": "@jupyter-widgets/base",
            "_model_module_version": "1.2.0",
            "_model_name": "LayoutModel",
            "_view_count": null,
            "_view_module": "@jupyter-widgets/base",
            "_view_module_version": "1.2.0",
            "_view_name": "LayoutView",
            "align_content": null,
            "align_items": null,
            "align_self": null,
            "border": null,
            "bottom": null,
            "display": null,
            "flex": null,
            "flex_flow": null,
            "grid_area": null,
            "grid_auto_columns": null,
            "grid_auto_flow": null,
            "grid_auto_rows": null,
            "grid_column": null,
            "grid_gap": null,
            "grid_row": null,
            "grid_template_areas": null,
            "grid_template_columns": null,
            "grid_template_rows": null,
            "height": null,
            "justify_content": null,
            "justify_items": null,
            "left": null,
            "margin": null,
            "max_height": null,
            "max_width": null,
            "min_height": null,
            "min_width": null,
            "object_fit": null,
            "object_position": null,
            "order": null,
            "overflow": null,
            "overflow_x": null,
            "overflow_y": null,
            "padding": null,
            "right": null,
            "top": null,
            "visibility": null,
            "width": null
          }
        },
        "be331ef79db741c8bbd96afb0a8a3afe": {
          "model_module": "@jupyter-widgets/controls",
          "model_name": "DescriptionStyleModel",
          "model_module_version": "1.5.0",
          "state": {
            "_model_module": "@jupyter-widgets/controls",
            "_model_module_version": "1.5.0",
            "_model_name": "DescriptionStyleModel",
            "_view_count": null,
            "_view_module": "@jupyter-widgets/base",
            "_view_module_version": "1.2.0",
            "_view_name": "StyleView",
            "description_width": ""
          }
        },
        "22c1863a10684561af8feecf93858040": {
          "model_module": "@jupyter-widgets/base",
          "model_name": "LayoutModel",
          "model_module_version": "1.2.0",
          "state": {
            "_model_module": "@jupyter-widgets/base",
            "_model_module_version": "1.2.0",
            "_model_name": "LayoutModel",
            "_view_count": null,
            "_view_module": "@jupyter-widgets/base",
            "_view_module_version": "1.2.0",
            "_view_name": "LayoutView",
            "align_content": null,
            "align_items": null,
            "align_self": null,
            "border": null,
            "bottom": null,
            "display": null,
            "flex": null,
            "flex_flow": null,
            "grid_area": null,
            "grid_auto_columns": null,
            "grid_auto_flow": null,
            "grid_auto_rows": null,
            "grid_column": null,
            "grid_gap": null,
            "grid_row": null,
            "grid_template_areas": null,
            "grid_template_columns": null,
            "grid_template_rows": null,
            "height": null,
            "justify_content": null,
            "justify_items": null,
            "left": null,
            "margin": null,
            "max_height": null,
            "max_width": null,
            "min_height": null,
            "min_width": null,
            "object_fit": null,
            "object_position": null,
            "order": null,
            "overflow": null,
            "overflow_x": null,
            "overflow_y": null,
            "padding": null,
            "right": null,
            "top": null,
            "visibility": null,
            "width": null
          }
        },
        "438a249535814d20be3676c531102fc4": {
          "model_module": "@jupyter-widgets/controls",
          "model_name": "ProgressStyleModel",
          "model_module_version": "1.5.0",
          "state": {
            "_model_module": "@jupyter-widgets/controls",
            "_model_module_version": "1.5.0",
            "_model_name": "ProgressStyleModel",
            "_view_count": null,
            "_view_module": "@jupyter-widgets/base",
            "_view_module_version": "1.2.0",
            "_view_name": "StyleView",
            "bar_color": null,
            "description_width": ""
          }
        },
        "b0c4fb0b3f1640538511e6492f196206": {
          "model_module": "@jupyter-widgets/base",
          "model_name": "LayoutModel",
          "model_module_version": "1.2.0",
          "state": {
            "_model_module": "@jupyter-widgets/base",
            "_model_module_version": "1.2.0",
            "_model_name": "LayoutModel",
            "_view_count": null,
            "_view_module": "@jupyter-widgets/base",
            "_view_module_version": "1.2.0",
            "_view_name": "LayoutView",
            "align_content": null,
            "align_items": null,
            "align_self": null,
            "border": null,
            "bottom": null,
            "display": null,
            "flex": null,
            "flex_flow": null,
            "grid_area": null,
            "grid_auto_columns": null,
            "grid_auto_flow": null,
            "grid_auto_rows": null,
            "grid_column": null,
            "grid_gap": null,
            "grid_row": null,
            "grid_template_areas": null,
            "grid_template_columns": null,
            "grid_template_rows": null,
            "height": null,
            "justify_content": null,
            "justify_items": null,
            "left": null,
            "margin": null,
            "max_height": null,
            "max_width": null,
            "min_height": null,
            "min_width": null,
            "object_fit": null,
            "object_position": null,
            "order": null,
            "overflow": null,
            "overflow_x": null,
            "overflow_y": null,
            "padding": null,
            "right": null,
            "top": null,
            "visibility": null,
            "width": null
          }
        },
        "55adf16781ce48209cd697f933255aa4": {
          "model_module": "@jupyter-widgets/controls",
          "model_name": "DescriptionStyleModel",
          "model_module_version": "1.5.0",
          "state": {
            "_model_module": "@jupyter-widgets/controls",
            "_model_module_version": "1.5.0",
            "_model_name": "DescriptionStyleModel",
            "_view_count": null,
            "_view_module": "@jupyter-widgets/base",
            "_view_module_version": "1.2.0",
            "_view_name": "StyleView",
            "description_width": ""
          }
        }
      }
    }
  },
  "nbformat": 4,
  "nbformat_minor": 0
}