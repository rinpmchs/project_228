{
  "nbformat": 4,
  "nbformat_minor": 0,
  "metadata": {
    "colab": {
      "provenance": []
    },
    "kernelspec": {
      "name": "python3",
      "display_name": "Python 3"
    },
    "language_info": {
      "name": "python"
    }
  },
  "cells": [
    {
      "cell_type": "markdown",
      "source": [
        "# Data\n"
      ],
      "metadata": {
        "id": "tm2xP5Z6r1MN"
      }
    },
    {
      "cell_type": "code",
      "execution_count": null,
      "metadata": {
        "id": "2Vf6xrjCrzUK"
      },
      "outputs": [],
      "source": [
        "import pandas as pd\n",
        "import numpy as np\n",
        "df = pd.read_csv(\"final_enriched_for_tableau.csv\")\n",
        "\n",
        "strictness_map = {\n",
        "    'штраф': 1,\n",
        "    'обязательные работы': 2,\n",
        "    'исправительные работы': 3,\n",
        "    'условное осуждение': 4,\n",
        "    'ограничение свободы': 5,\n",
        "    'лишение свободы': 6\n",
        "}\n",
        "df['strictness_score'] = df['predicted_result_type'].map(strictness_map)"
      ]
    },
    {
      "cell_type": "code",
      "source": [
        "df['predicted_amount_bin'] = (df['predicted_amount'] == 'крупный').astype(int)\n",
        "\n",
        "X = df[['predicted_amount_bin']].fillna(0)\n",
        "y = df['strictness_score'].fillna(0)\n",
        "\n",
        "X_train, X_test, y_train, y_test = train_test_split(X, y, stratify=y)\n",
        "\n",
        "rf = RandomForestClassifier()\n",
        "rf.fit(X_train, y_train)\n",
        "print(\"Feature importance:\", rf.feature_importances_)\n",
        "print(\"Classification report:\\n\", classification_report(y_test, rf.predict(X_test)))"
      ],
      "metadata": {
        "colab": {
          "base_uri": "https://localhost:8080/"
        },
        "id": "Vj7Ul475sWGu",
        "outputId": "dea0732f-76ec-4254-cfbd-dbbed73c9803"
      },
      "execution_count": null,
      "outputs": [
        {
          "output_type": "stream",
          "name": "stdout",
          "text": [
            "Feature importance: [1.]\n",
            "Classification report:\n",
            "               precision    recall  f1-score   support\n",
            "\n",
            "         0.0       0.00      0.00      0.00         9\n",
            "         1.0       0.45      1.00      0.62      1111\n",
            "         2.0       0.00      0.00      0.00       150\n",
            "         3.0       0.00      0.00      0.00         1\n",
            "         4.0       0.00      0.00      0.00       883\n",
            "         6.0       0.00      0.00      0.00       301\n",
            "\n",
            "    accuracy                           0.45      2455\n",
            "   macro avg       0.08      0.17      0.10      2455\n",
            "weighted avg       0.20      0.45      0.28      2455\n",
            "\n"
          ]
        },
        {
          "output_type": "stream",
          "name": "stderr",
          "text": [
            "/usr/local/lib/python3.11/dist-packages/sklearn/metrics/_classification.py:1565: UndefinedMetricWarning: Precision is ill-defined and being set to 0.0 in labels with no predicted samples. Use `zero_division` parameter to control this behavior.\n",
            "  _warn_prf(average, modifier, f\"{metric.capitalize()} is\", len(result))\n",
            "/usr/local/lib/python3.11/dist-packages/sklearn/metrics/_classification.py:1565: UndefinedMetricWarning: Precision is ill-defined and being set to 0.0 in labels with no predicted samples. Use `zero_division` parameter to control this behavior.\n",
            "  _warn_prf(average, modifier, f\"{metric.capitalize()} is\", len(result))\n",
            "/usr/local/lib/python3.11/dist-packages/sklearn/metrics/_classification.py:1565: UndefinedMetricWarning: Precision is ill-defined and being set to 0.0 in labels with no predicted samples. Use `zero_division` parameter to control this behavior.\n",
            "  _warn_prf(average, modifier, f\"{metric.capitalize()} is\", len(result))\n"
          ]
        }
      ]
    },
    {
      "cell_type": "code",
      "source": [
        "from sklearn.linear_model import LogisticRegression\n",
        "from sklearn.model_selection import train_test_split\n",
        "from sklearn.preprocessing import LabelEncoder\n",
        "from sklearn.metrics import classification_report\n",
        "from sklearn.utils.multiclass import unique_labels\n",
        "\n",
        "df_clean = df.dropna(subset=['predicted_amount_bin', 'predicted_result_type'])\n",
        "\n",
        "le = LabelEncoder()\n",
        "df_clean['result_type_encoded'] = le.fit_transform(df_clean['predicted_result_type'])\n",
        "\n",
        "X = df_clean[['predicted_amount_bin']]\n",
        "y = df_clean['result_type_encoded']\n",
        "X_train, X_test, y_train, y_test = train_test_split(X, y, stratify=y, random_state=42)\n",
        "\n",
        "model = LogisticRegression(multi_class='multinomial', solver='lbfgs', max_iter=1000)\n",
        "model.fit(X_train, y_train)\n",
        "\n",
        "y_pred = model.predict(X_test)\n",
        "\n",
        "labels_used = sorted(unique_labels(y_test, y_pred).astype(int))\n",
        "target_names_used = le.inverse_transform(labels_used)\n",
        "\n",
        "print(classification_report(y_test, y_pred, labels=labels_used, target_names=target_names_used))"
      ],
      "metadata": {
        "colab": {
          "base_uri": "https://localhost:8080/"
        },
        "id": "8Pfrs9dItcKS",
        "outputId": "d6d0c3db-e7ab-4bad-e160-641cb305cd34"
      },
      "execution_count": null,
      "outputs": [
        {
          "output_type": "stream",
          "name": "stderr",
          "text": [
            "<ipython-input-51-d974dec22a1e>:10: SettingWithCopyWarning: \n",
            "A value is trying to be set on a copy of a slice from a DataFrame.\n",
            "Try using .loc[row_indexer,col_indexer] = value instead\n",
            "\n",
            "See the caveats in the documentation: https://pandas.pydata.org/pandas-docs/stable/user_guide/indexing.html#returning-a-view-versus-a-copy\n",
            "  df_clean['result_type_encoded'] = le.fit_transform(df_clean['predicted_result_type'])\n",
            "/usr/local/lib/python3.11/dist-packages/sklearn/linear_model/_logistic.py:1247: FutureWarning: 'multi_class' was deprecated in version 1.5 and will be removed in 1.7. From then on, it will always use 'multinomial'. Leave it to its default value to avoid this warning.\n",
            "  warnings.warn(\n"
          ]
        },
        {
          "output_type": "stream",
          "name": "stdout",
          "text": [
            "                       precision    recall  f1-score   support\n",
            "\n",
            "исправительные работы       0.00      0.00      0.00         1\n",
            "      лишение свободы       0.00      0.00      0.00       301\n",
            "  обязательные работы       0.00      0.00      0.00       150\n",
            "   условное осуждение       0.00      0.00      0.00       883\n",
            "                штраф       0.45      1.00      0.62      1111\n",
            "\n",
            "             accuracy                           0.45      2446\n",
            "            macro avg       0.09      0.20      0.12      2446\n",
            "         weighted avg       0.21      0.45      0.28      2446\n",
            "\n"
          ]
        },
        {
          "output_type": "stream",
          "name": "stderr",
          "text": [
            "/usr/local/lib/python3.11/dist-packages/sklearn/metrics/_classification.py:1565: UndefinedMetricWarning: Precision is ill-defined and being set to 0.0 in labels with no predicted samples. Use `zero_division` parameter to control this behavior.\n",
            "  _warn_prf(average, modifier, f\"{metric.capitalize()} is\", len(result))\n",
            "/usr/local/lib/python3.11/dist-packages/sklearn/metrics/_classification.py:1565: UndefinedMetricWarning: Precision is ill-defined and being set to 0.0 in labels with no predicted samples. Use `zero_division` parameter to control this behavior.\n",
            "  _warn_prf(average, modifier, f\"{metric.capitalize()} is\", len(result))\n",
            "/usr/local/lib/python3.11/dist-packages/sklearn/metrics/_classification.py:1565: UndefinedMetricWarning: Precision is ill-defined and being set to 0.0 in labels with no predicted samples. Use `zero_division` parameter to control this behavior.\n",
            "  _warn_prf(average, modifier, f\"{metric.capitalize()} is\", len(result))\n"
          ]
        }
      ]
    },
    {
      "cell_type": "markdown",
      "source": [
        "# Hypothesis 1\n",
        "The Multinomial Logistic Regression is used for evaluating the influence of the amount on the result type"
      ],
      "metadata": {
        "id": "8HnfvYt346zL"
      }
    },
    {
      "cell_type": "code",
      "source": [
        "import statsmodels.api as sm\n",
        "import pandas as pd\n",
        "\n",
        "df_clean = df.dropna(subset=['predicted_result_type', 'predicted_amount_bin'])\n",
        "\n",
        "categories = ['лишение свободы', 'штраф', 'условное осуждение', 'обязательные работы',\n",
        "              'исправительные работы', 'ограничение свободы']\n",
        "df_clean['result_type_cat'] = pd.Categorical(df_clean['predicted_result_type'], categories=categories)\n",
        "\n",
        "y = df_clean['result_type_cat']\n",
        "X = sm.add_constant(df_clean[['predicted_amount_bin']])\n",
        "\n",
        "model = sm.MNLogit(y, X)\n",
        "result = model.fit()\n",
        "print(result.summary())"
      ],
      "metadata": {
        "colab": {
          "base_uri": "https://localhost:8080/"
        },
        "id": "Le6TI9fR3Mcc",
        "outputId": "5b5f874b-a21d-4324-dc69-19108b126229"
      },
      "execution_count": null,
      "outputs": [
        {
          "output_type": "stream",
          "name": "stderr",
          "text": [
            "<ipython-input-52-6914c27331e7>:8: SettingWithCopyWarning: \n",
            "A value is trying to be set on a copy of a slice from a DataFrame.\n",
            "Try using .loc[row_indexer,col_indexer] = value instead\n",
            "\n",
            "See the caveats in the documentation: https://pandas.pydata.org/pandas-docs/stable/user_guide/indexing.html#returning-a-view-versus-a-copy\n",
            "  df_clean['result_type_cat'] = pd.Categorical(df_clean['predicted_result_type'], categories=categories)\n",
            "/usr/local/lib/python3.11/dist-packages/statsmodels/base/model.py:607: ConvergenceWarning: Maximum Likelihood optimization failed to converge. Check mle_retvals\n",
            "  warnings.warn(\"Maximum Likelihood optimization failed to \"\n"
          ]
        },
        {
          "output_type": "stream",
          "name": "stdout",
          "text": [
            "Warning: Maximum number of iterations has been exceeded.\n",
            "         Current function value: 1.159409\n",
            "         Iterations: 35\n",
            "                          MNLogit Regression Results                          \n",
            "==============================================================================\n",
            "Dep. Variable:        result_type_cat   No. Observations:                 9783\n",
            "Model:                        MNLogit   Df Residuals:                     9773\n",
            "Method:                           MLE   Df Model:                            5\n",
            "Date:                Mon, 26 May 2025   Pseudo R-squ.:               0.0004303\n",
            "Time:                        19:53:48   Log-Likelihood:                -11342.\n",
            "converged:                      False   LL-Null:                       -11347.\n",
            "Covariance Type:            nonrobust   LLR p-value:                   0.08213\n",
            "=======================================================================================================\n",
            "                result_type_cat=штраф       coef    std err          z      P>|z|      [0.025      0.975]\n",
            "---------------------------------------------------------------------------------------------------------\n",
            "const                                     1.3360      0.037     36.507      0.000       1.264       1.408\n",
            "predicted_amount_bin                     -0.1421      0.080     -1.783      0.075      -0.298       0.014\n",
            "---------------------------------------------------------------------------------------------------------\n",
            "result_type_cat=условное осуждение       coef    std err          z      P>|z|      [0.025      0.975]\n",
            "------------------------------------------------------------------------------------------------------\n",
            "const                                  1.1237      0.037     29.978      0.000       1.050       1.197\n",
            "predicted_amount_bin                  -0.2403      0.083     -2.905      0.004      -0.402      -0.078\n",
            "------------------------------------------------------------------------------------------------------\n",
            "result_type_cat=обязательные работы       coef    std err          z      P>|z|      [0.025      0.975]\n",
            "-------------------------------------------------------------------------------------------------------\n",
            "const                                  -0.6567      0.056    -11.784      0.000      -0.766      -0.547\n",
            "predicted_amount_bin                   -0.2035      0.127     -1.607      0.108      -0.452       0.045\n",
            "-------------------------------------------------------------------------------------------------------\n",
            "result_type_cat=исправительные работы       coef    std err          z      P>|z|      [0.025      0.975]\n",
            "---------------------------------------------------------------------------------------------------------\n",
            "const                                    -5.7505      0.578     -9.944      0.000      -6.884      -4.617\n",
            "predicted_amount_bin                      0.1898      1.157      0.164      0.870      -2.078       2.457\n",
            "---------------------------------------------------------------------------------------------------------\n",
            "result_type_cat=ограничение свободы       coef    std err          z      P>|z|      [0.025      0.975]\n",
            "-------------------------------------------------------------------------------------------------------\n",
            "const                                  -6.1559      0.708     -8.697      0.000      -7.543      -4.769\n",
            "predicted_amount_bin                  -11.6029    445.437     -0.026      0.979    -884.644     861.438\n",
            "=======================================================================================================\n"
          ]
        }
      ]
    },
    {
      "cell_type": "markdown",
      "source": [
        "Significant finding:\n",
        "* The only statistically significant effect of predicted_amount_bin = 1 is for the outcome “условное осуждение” (suspended sentence).\n",
        "* The coefficient is –0.2403, with p-value = 0.004.\n",
        "\n",
        "That shows us that a **large drug amount significantly reduces the likelihood of receiving a suspended sentence relative to imprisonment**.\n",
        "\n"
      ],
      "metadata": {
        "id": "YW6BRXSk4uYT"
      }
    },
    {
      "cell_type": "markdown",
      "source": [
        "Near-significant effect:\n",
        "* “штраф” (fine)\n",
        "* Coefficient = –0.1421, p-value = 0.075.\n",
        "\n",
        "This suggests a **possible decrease in the likelihood of receiving a fine instead of prison for large amounts**."
      ],
      "metadata": {
        "id": "an7tnCYM7Tqe"
      }
    },
    {
      "cell_type": "markdown",
      "source": [
        "For all other punishment types, the influence of the amount is **not statistically significant**.\n",
        "\n",
        "In categories like “ограничение свободы” and “принудительные работы”, model convergence issues and huge standard errors show that there are **too few cases** to draw reliable conclusions."
      ],
      "metadata": {
        "id": "n518AoXR7m8F"
      }
    },
    {
      "cell_type": "markdown",
      "source": [
        "# Hypothesis 2\n"
      ],
      "metadata": {
        "id": "c0veAjiLDciM"
      }
    },
    {
      "cell_type": "code",
      "source": [
        "import statsmodels.api as sm\n",
        "import seaborn as sns\n",
        "import matplotlib.pyplot as plt\n",
        "\n",
        "df_prison = df[(df['predicted_result_type'] == 'лишение свободы') &\n",
        "               (df['log_weight'].notna()) &\n",
        "               (df['sentence_total_months'].notna())].copy()"
      ],
      "metadata": {
        "id": "MG-09mP-37iG"
      },
      "execution_count": null,
      "outputs": []
    },
    {
      "cell_type": "code",
      "source": [
        "sns.lmplot(data=df_prison, x='log_weight', y='sentence_total_months',\n",
        "           height=6, aspect=1.5, scatter_kws={'alpha':0.3})\n",
        "plt.title(\"Sentence length vs. log(drug weight) for imprisonment cases\")\n",
        "plt.xlabel(\"Log drug weight\")\n",
        "plt.ylabel(\"Sentence duration (months)\")\n",
        "plt.grid(True)\n",
        "plt.show()"
      ],
      "metadata": {
        "colab": {
          "base_uri": "https://localhost:8080/",
          "height": 628
        },
        "id": "M22XskTSDjX6",
        "outputId": "5bd4baa6-0c24-494e-d301-6f9b846bcb62"
      },
      "execution_count": null,
      "outputs": [
        {
          "output_type": "display_data",
          "data": {
            "text/plain": [
              "<Figure size 900x600 with 1 Axes>"
            ],
            "image/png": "[encoded data removed]"
          },
          "metadata": {}
        }
      ]
    },
    {
      "cell_type": "code",
      "source": [
        "X = sm.add_constant(df_prison['log_weight'])\n",
        "y = df_prison['sentence_total_months']\n",
        "\n",
        "model = sm.OLS(y, X).fit()\n",
        "print(model.summary())"
      ],
      "metadata": {
        "colab": {
          "base_uri": "https://localhost:8080/"
        },
        "id": "1Dpvnju6Dvc8",
        "outputId": "3b13032c-f364-43bb-c7f7-806c2c147624"
      },
      "execution_count": null,
      "outputs": [
        {
          "output_type": "stream",
          "name": "stdout",
          "text": [
            "                              OLS Regression Results                             \n",
            "=================================================================================\n",
            "Dep. Variable:     sentence_total_months   R-squared:                       0.004\n",
            "Model:                               OLS   Adj. R-squared:                  0.003\n",
            "Method:                    Least Squares   F-statistic:                     5.207\n",
            "Date:                   Mon, 26 May 2025   Prob (F-statistic):             0.0227\n",
            "Time:                           19:53:49   Log-Likelihood:                -6736.1\n",
            "No. Observations:                   1203   AIC:                         1.348e+04\n",
            "Df Residuals:                       1201   BIC:                         1.349e+04\n",
            "Df Model:                              1                                         \n",
            "Covariance Type:               nonrobust                                         \n",
            "==============================================================================\n",
            "                 coef    std err          t      P>|t|      [0.025      0.975]\n",
            "------------------------------------------------------------------------------\n",
            "const         23.2833      2.636      8.833      0.000      18.112      28.455\n",
            "log_weight     2.1545      0.944      2.282      0.023       0.302       4.007\n",
            "==============================================================================\n",
            "Omnibus:                     2978.947   Durbin-Watson:                   2.017\n",
            "Prob(Omnibus):                  0.000   Jarque-Bera (JB):         28445367.800\n",
            "Skew:                          24.885   Prob(JB):                         0.00\n",
            "Kurtosis:                     754.673   Cond. No.                         4.16\n",
            "==============================================================================\n",
            "\n",
            "Notes:\n",
            "[1] Standard Errors assume that the covariance matrix of the errors is correctly specified.\n"
          ]
        }
      ]
    },
    {
      "cell_type": "markdown",
      "source": [
        "* The coefficient is positive and **statistically significant** (p = 0.023). This means that, among imprisoned individuals, **higher drug weight is associated with longer prison sentences**. Specifically, for each unit increase in log drug weight, the sentence increases by approximately 2.15 months on average.\n",
        "*\tHowever, the **R² is very low (0.004)**, which suggests that drug weight **explains only a small portion of the variation** in sentence lengths.\tOther factors (e.g. prior convictions, mitigating/aggravating circumstances, substance type, etc.) likely play a much larger role."
      ],
      "metadata": {
        "id": "FeJ5i0JxJYCw"
      }
    },
    {
      "cell_type": "markdown",
      "source": [
        "# Hypothesis 3"
      ],
      "metadata": {
        "id": "Z5hwpWliWrI4"
      }
    },
    {
      "cell_type": "code",
      "source": [
        "df = pd.read_csv('clean_noresult_final.csv')\n",
        "df = df[['gender_group', 'predicted_result_type']]\n",
        "df = df[df['gender_group'].isin(['муж', 'жен'])]\n",
        "soft_types = ['штраф', 'условное осуждение']\n",
        "df['soft_punishment'] = df['predicted_result_type'].apply(lambda x: 1 if x in soft_types else 0)\n",
        "df['female'] = (df['gender_group'] == 'жен').astype(int)\n",
        "\n",
        "X = sm.add_constant(df['female'])\n",
        "y = df['soft_punishment']\n",
        "\n",
        "model = sm.Logit(y, X).fit()\n",
        "print(model.summary())\n"
      ],
      "metadata": {
        "id": "iLl10CZSJ4EG",
        "colab": {
          "base_uri": "https://localhost:8080/"
        },
        "outputId": "0b1869e3-b0fb-4a73-8ce3-59249538bc9b"
      },
      "execution_count": 2,
      "outputs": [
        {
          "output_type": "stream",
          "name": "stdout",
          "text": [
            "Optimization terminated successfully.\n",
            "         Current function value: 0.483994\n",
            "         Iterations 5\n",
            "                           Logit Regression Results                           \n",
            "==============================================================================\n",
            "Dep. Variable:        soft_punishment   No. Observations:                 9257\n",
            "Model:                          Logit   Df Residuals:                     9255\n",
            "Method:                           MLE   Df Model:                            1\n",
            "Date:                Tue, 27 May 2025   Pseudo R-squ.:               0.0001143\n",
            "Time:                        11:32:20   Log-Likelihood:                -4480.3\n",
            "converged:                       True   LL-Null:                       -4480.8\n",
            "Covariance Type:            nonrobust   LLR p-value:                    0.3116\n",
            "==============================================================================\n",
            "                 coef    std err          z      P>|z|      [0.025      0.975]\n",
            "------------------------------------------------------------------------------\n",
            "const          1.4517      0.028     52.416      0.000       1.397       1.506\n",
            "female         0.0987      0.098      1.003      0.316      -0.094       0.292\n",
            "==============================================================================\n"
          ]
        }
      ]
    },
    {
      "cell_type": "markdown",
      "source": [
        "According to the regression results **(n = 9257)**, the coefficient for female turned out to be positive **(0.0987)**, which indicates a slightly higher probability of assigning mild punishment to women compared to men. However, this effect is not statistically significant **(p = 0.316)**, and therefore, the data obtained do not allow us to confirm the hypothesis about the influence of gender on the severity of punishment.\n",
        "\n",
        "Thus, when considering only one factor — the sex of the accused — the differences in the type of punishment imposed between men and women were not revealed at the level of statistical significance.\n",
        "\n",
        "\n",
        "The absence of a significant relationship between gender and type of punishment in the simplified model does not mean that there is no such influence. Probably, gender can have an effect, but only in combination with other factors, such as the weight and type of substance, the presence of mitigating or aggravating circumstances, criminal record, region, etc."
      ],
      "metadata": {
        "id": "JXZ2mBwch0lJ"
      }
    },
    {
      "cell_type": "code",
      "source": [],
      "metadata": {
        "id": "g-Sd9TDrh95s"
      },
      "execution_count": null,
      "outputs": []
    }
  ]
}