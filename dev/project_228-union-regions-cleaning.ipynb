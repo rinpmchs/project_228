{
  "nbformat": 4,
  "nbformat_minor": 0,
  "metadata": {
    "colab": {
      "provenance": []
    },
    "kernelspec": {
      "name": "python3",
      "display_name": "Python 3"
    },
    "language_info": {
      "name": "python"
    }
  },
  "cells": [
    {
      "cell_type": "code",
      "source": [
        "output_path = '/content/merged_cases_random_10k.csv'\n",
        "\n",
        "with open(output_path, 'w', encoding='utf-8') as outfile:\n",
        "    for i, path in enumerate([\n",
        "        '/content/cases_random_0kto1k.csv',\n",
        "        '/content/cases_random_1kto2k.csv',\n",
        "        '/content/cases_random_2kto3k.csv',\n",
        "        '/content/cases_random_3kto4k.csv',\n",
        "        '/content/cases_random_4kto5k.csv',\n",
        "        '/content/cases_random_5kto6k.csv',\n",
        "        '/content/cases_random_6kto7k.csv',\n",
        "        '/content/cases_random_7kto8k.csv',\n",
        "        '/content/cases_random_8kto9k.csv',\n",
        "        '/content/cases_random_9kto10k.csv',\n",
        "    ]):\n",
        "        with open(path, 'r', encoding='utf-8') as infile:\n",
        "            lines = infile.readlines()\n",
        "            if i == 0:\n",
        "                outfile.writelines(lines)\n",
        "            else:\n",
        "                outfile.writelines(lines[1:])\n",
        "\n"
      ],
      "metadata": {
        "colab": {
          "base_uri": "https://localhost:8080/"
        },
        "id": "jgl1buGOEWDd",
        "outputId": "d2cf6837-e8e7-4e95-cb0e-2b499813b190"
      },
      "execution_count": null,
      "outputs": [
        {
          "output_type": "stream",
          "name": "stdout",
          "text": [
            "✅ Готово: /content/merged_cases_random_10k.csv\n"
          ]
        }
      ]
    },
    {
      "cell_type": "code",
      "source": [
        "import pandas as pd\n",
        "\n",
        "main_df = pd.read_csv('/content/merged_cases_random_10k.csv')\n",
        "\n",
        "\n",
        "predicted_files = [\n",
        "    '/content/predicted_result_type_0k1k.csv',\n",
        "    '/content/predicted_result_type_1k2k.csv',\n",
        "    '/content/predicted_result_type_2k3k.csv',\n",
        "    '/content/predicted_result_type_3k4k.csv',\n",
        "    '/content/predicted_result_type_4k5k.csv',\n",
        "    '/content/predicted_result_type_5k6k.csv',\n",
        "    '/content/predicted_result_type_6k7k.csv',\n",
        "    '/content/predicted_result_type_7k8k.csv',\n",
        "    '/content/predicted_result_type_8k9k.csv',\n",
        "    '/content/predicted_result_type_9k10k.csv',\n",
        "]\n",
        "\n",
        "predicted_dfs = [pd.read_csv(path) for path in predicted_files]\n",
        "predicted_df = pd.concat(predicted_dfs, ignore_index=True)\n",
        "\n",
        "assert 'id' in main_df.columns, 'Нет столбца id в основном датафрейме'\n",
        "assert 'id' in predicted_df.columns and 'predicted_result_type' in predicted_df.columns, 'Нет нужных колонок в predicted'\n",
        "\n",
        "main_df['id'] = main_df['id'].astype(str)\n",
        "predicted_df['id'] = predicted_df['id'].astype(str)\n",
        "\n",
        "merged = pd.merge(main_df, predicted_df[['id', 'predicted_result_type']], on='id', how='left')\n",
        "\n",
        "cols = list(merged.columns)\n",
        "cols.insert(1, cols.pop(cols.index('predicted_result_type')))\n",
        "merged = merged[cols]\n",
        "\n",
        "\n",
        "merged.to_csv('/content/merged_with_prediction.csv', index=False)\n"
      ],
      "metadata": {
        "colab": {
          "base_uri": "https://localhost:8080/"
        },
        "id": "_EqRTINrHr6v",
        "outputId": "1fc6c29e-f12e-4af8-fbac-62c7e3a61c13"
      },
      "execution_count": null,
      "outputs": [
        {
          "output_type": "stream",
          "name": "stdout",
          "text": [
            "✅ Готово. Файл сохранён: /content/merged_with_prediction.csv\n"
          ]
        }
      ]
    },
    {
      "cell_type": "code",
      "source": [
        "import pandas as pd\n",
        "\n",
        "merged = pd.read_csv('/content/merged_with_prediction.csv')\n",
        "\n",
        "parsed_files = [\n",
        "    '/content/parsed_sentences.csv0kto1k.csv',\n",
        "    '/content/parsed_sentences.csv1kto2.csv',\n",
        "    '/content/parsed_sentences.csv2kto3k.csv',\n",
        "    '/content/parsed_sentences.csv3kto4k.csv',\n",
        "    '/content/parsed_sentences.csv4kto5k.csv',\n",
        "    '/content/parsed_sentences.csv5kto6k.csv',\n",
        "    '/content/parsed_sentences.csv6kto7k.csv',\n",
        "    '/content/parsed_sentences.csv7kto8k.csv',\n",
        "    '/content/parsed_sentences.csv8kto9k.csv',\n",
        "    '/content/parsed_sentences.csv9kto10k.csv',\n",
        "]\n",
        "\n",
        "parsed_dfs = [pd.read_csv(path) for path in parsed_files]\n",
        "parsed_df = pd.concat(parsed_dfs, ignore_index=True)\n",
        "\n",
        "merged['id'] = merged['id'].astype(str)\n",
        "parsed_df['id'] = parsed_df['id'].astype(str)\n",
        "\n",
        "parsed_df = parsed_df.rename(columns={\n",
        "    'Sentence year': 'sentence_year',\n",
        "    'Sentence month': 'sentence_months',\n",
        "    'Sentence day': 'sentence_days',\n",
        "    'Sentence hour': 'sentence_hours',\n",
        "    'Is suspended': 'is_suspended',\n",
        "    'Suspention years': 'suspension_years',\n",
        "    'Suspention months': 'suspension_months',\n",
        "    'Is_fixed_fine': 'fine_is_fixed',\n",
        "    'Fine amount': 'fine_amount'\n",
        "})\n",
        "\n",
        "columns_to_add = [\n",
        "    'id',\n",
        "    'sentence_year',\n",
        "    'sentence_months',\n",
        "    'sentence_days',\n",
        "    'sentence_hours',\n",
        "    'is_suspended',\n",
        "    'suspension_years',\n",
        "    'suspension_months',\n",
        "    'fine_is_fixed',\n",
        "    'fine_amount'\n",
        "]\n",
        "\n",
        "parsed_df = parsed_df[columns_to_add]\n",
        "\n",
        "merged = pd.merge(merged, parsed_df, on='id', how='left')\n",
        "\n",
        "before_cols = list(merged.columns)\n",
        "target_index = before_cols.index('predicted_result_type') + 1\n",
        "\n",
        "new_order = (\n",
        "    before_cols[:target_index] +\n",
        "    [col for col in columns_to_add if col != 'id'] +\n",
        "    [col for col in before_cols if col not in ['predicted_result_type'] + [col for col in columns_to_add if col != 'id']]\n",
        ")\n",
        "\n",
        "merged = merged[new_order]\n",
        "\n",
        "merged.to_csv('/content/merged_with_prediction_and_sentences.csv', index=False)"
      ],
      "metadata": {
        "colab": {
          "base_uri": "https://localhost:8080/"
        },
        "id": "cNV15jcAKBHL",
        "outputId": "91a07b51-ec6b-42b3-cda5-c8af71c843d7"
      },
      "execution_count": null,
      "outputs": [
        {
          "output_type": "stream",
          "name": "stdout",
          "text": [
            "✅ Готово! Файл: /content/merged_with_prediction_and_sentences.csv\n"
          ]
        }
      ]
    },
    {
      "cell_type": "code",
      "source": [
        "\n",
        "merged = pd.read_csv('/content/merged_with_prediction_and_sentences.csv')\n",
        "\n",
        "drug_files = [\n",
        "    '/content/predicted_0kto1k_grams.csv',\n",
        "    '/content/predicted_1kto2k_grams.csv',\n",
        "    '/content/predicted_2kto3k_grams.csv',\n",
        "    '/content/predicted_3kto4k_grams.csv',\n",
        "    '/content/predicted_4kto5k_grams.csv',\n",
        "    '/content/predicted_5kto6k_grams.csv',\n",
        "    '/content/predicted_6kto7k_grams.csv',\n",
        "    '/content/predicted_7kto8k_grams.csv',\n",
        "    '/content/predicted_8kto9k_grams.csv',\n",
        "    '/content/predicted_9kt10k_grams.csv',\n",
        "]\n",
        "\n",
        "drug_dfs = [pd.read_csv(path) for path in drug_files]\n",
        "drug_df = pd.concat(drug_dfs, ignore_index=True)\n",
        "\n",
        "merged['id'] = merged['id'].astype(str)\n",
        "drug_df['id'] = drug_df['id'].astype(str)\n",
        "\n",
        "merged = pd.merge(merged, drug_df, on='id', how='left')\n",
        "\n",
        "before_cols = list(merged.columns)\n",
        "target_index = before_cols.index('fine_amount') + 1\n",
        "\n",
        "new_order = (\n",
        "    before_cols[:target_index] +\n",
        "    ['drug_weight'] +\n",
        "    [col for col in before_cols if col not in ['drug_weight']]\n",
        ")\n",
        "\n",
        "merged = merged[new_order]\n",
        "merged.to_csv('/content/final_merged_all.csv', index=False)\n"
      ],
      "metadata": {
        "colab": {
          "base_uri": "https://localhost:8080/"
        },
        "id": "-q9RYfQcNPlR",
        "outputId": "cb6b162d-bb21-4055-b5ee-70517e844d50"
      },
      "execution_count": null,
      "outputs": [
        {
          "output_type": "stream",
          "name": "stdout",
          "text": [
            "✅ Готово! Финальный файл: /content/final_merged_all.csv\n"
          ]
        }
      ]
    },
    {
      "cell_type": "code",
      "source": [
        "df = pd.read_csv('/content/final_merged_all.csv')\n",
        "\n",
        "df = df.loc[:, ~df.columns.duplicated()]\n",
        "df = df[[col for col in df.columns if not any(suffix in col for suffix in ['.1', '.2'])]]\n",
        "\n",
        "df.to_csv('/content/final_clean.csv', index=False)\n",
        "\n",
        "print(df.columns.tolist())"
      ],
      "metadata": {
        "colab": {
          "base_uri": "https://localhost:8080/"
        },
        "id": "FORDMkEWRibk",
        "outputId": "0f673846-5919-48be-dfd9-126c753742a6"
      },
      "execution_count": null,
      "outputs": [
        {
          "output_type": "stream",
          "name": "stdout",
          "text": [
            "✅ Готово! Чистый датасет без дубликатов сохранён в: /content/final_clean.csv\n",
            "['id', 'predicted_result_type', 'sentence_year', 'sentence_months', 'sentence_days', 'sentence_hours', 'is_suspended', 'suspension_years', 'suspension_months', 'fine_is_fixed', 'fine_amount', 'drug_weight', 'entry_date', 'result_date', 'in_favorites', 'court', 'codex_articles', 'defendants_simple', 'penalty', 'penalty_type', 'penalty_value', 'result_type', 'result_text', 'result_text_url', 'court_city', 'region', 'type', 'stage', 'url', 'appeal_date', 'defendants_gender', 'judge', 'case_number', 'last_scheduled_hearing_date', 'sm_url']\n"
          ]
        }
      ]
    },
    {
      "cell_type": "code",
      "source": [
        "print(\"Уникальные регионы:\")\n",
        "print(sorted(df['region'].dropna().unique()))"
      ],
      "metadata": {
        "colab": {
          "base_uri": "https://localhost:8080/"
        },
        "id": "7jNXM48VRr9a",
        "outputId": "8e6274d4-1560-4fcd-8f74-597ab9589c30"
      },
      "execution_count": null,
      "outputs": [
        {
          "output_type": "stream",
          "name": "stdout",
          "text": [
            "Уникальные регионы:\n",
            "['Алтайский край', 'Архангельская область', 'Астраханская область', 'Белгородская область', 'Брянская область', 'Владимирская область', 'Волгоградская область', 'Вологодская область', 'Воронежская область', 'Город Москва', 'Город Санкт-Петербург', 'Город Севастополь', 'Еврейская автономная область', 'Забайкальский край', 'Ивановская область', 'Иркутская область', 'Кабардино-Балкарская Республика', 'Калининградская область', 'Калужская область', 'Камчатский край', 'Кемеровская область', 'Кировская область', 'Костромская область', 'Краснодарский край', 'Красноярский край', 'Курганская область', 'Курская область', 'Ленинградская область', 'Липецкая область', 'Магаданская область', 'Московская область', 'Мурманская область', 'Ненецкий автономный округ', 'Нижегородская область', 'Новгородская область', 'Новосибирская область', 'Омская область', 'Оренбургская область', 'Орловская область', 'Пензенская область', 'Пермский край', 'Приморский край', 'Псковская область', 'Республика Адыгея', 'Республика Алтай', 'Республика Башкортостан', 'Республика Бурятия', 'Республика Дагестан', 'Республика Ингушетия', 'Республика Калмыкия', 'Республика Карачаево-Черкесия', 'Республика Карелия', 'Республика Коми', 'Республика Крым', 'Республика Марий Эл', 'Республика Мордовия', 'Республика Саха (Якутия)', 'Республика Северная Осетия-Алания', 'Республика Татарстан', 'Республика Тыва', 'Республика Хакасия', 'Ростовская область', 'Рязанская область', 'Самарская область', 'Саратовская область', 'Сахалинская область', 'Свердловская область', 'Смоленская область', 'Ставропольский край', 'Тамбовская область', 'Томская область', 'Тульская область', 'Тюменская область', 'Удмуртская Республика', 'Ульяновская область', 'Хабаровский край', 'Ханты-Мансийский автономный округ-Югра', 'Челябинская область', 'Чеченская Республика', 'Чувашская Республика', 'Чукотский автономный округ', 'Ямало-Ненецкий автономный округ', 'Ярославская область']\n"
          ]
        }
      ]
    },
    {
      "cell_type": "code",
      "source": [
        "region_coords = {\n",
        "    'Алтайский край': {'latitude': 53.3606, 'longitude': 83.7636},\n",
        "    'Архангельская область': {'latitude': 64.5401, 'longitude': 40.5433},\n",
        "    'Астраханская область': {'latitude': 46.3497, 'longitude': 48.0408},\n",
        "    'Белгородская область': {'latitude': 50.767, 'longitude': 37.45},\n",
        "    'Брянская область': {'latitude': 52.95, 'longitude': 33.4},\n",
        "    'Владимирская область': {'latitude': 56.083, 'longitude': 40.617},\n",
        "    'Волгоградская область': {'latitude': 49.733, 'longitude': 44.117},\n",
        "    'Вологодская область': {'latitude': 60.083, 'longitude': 40.45},\n",
        "    'Воронежская область': {'latitude': 51.05, 'longitude': 40.15},\n",
        "    'Город Москва': {'latitude': 55.7558, 'longitude': 37.6178},\n",
        "    'Город Санкт-Петербург': {'latitude': 59.9343, 'longitude': 30.3351},\n",
        "    'Город Севастополь': {'latitude': 44.6167, 'longitude': 33.5254},\n",
        "    'Еврейская автономная область': {'latitude': 48.7946, 'longitude': 132.9218},\n",
        "    'Забайкальский край': {'latitude': 52.0333, 'longitude': 113.5},\n",
        "    'Ивановская область': {'latitude': 56.9972, 'longitude': 40.9714},\n",
        "    'Иркутская область': {'latitude': 52.2978, 'longitude': 104.2964},\n",
        "    'Кабардино-Балкарская Республика': {'latitude': 43.4858, 'longitude': 43.607},\n",
        "    'Калининградская область': {'latitude': 54.7104, 'longitude': 20.4522},\n",
        "    'Калужская область': {'latitude': 54.5293, 'longitude': 36.2754},\n",
        "    'Камчатский край': {'latitude': 53.0451, 'longitude': 158.6483},\n",
        "    'Кемеровская область': {'latitude': 55.354, 'longitude': 86.0879},\n",
        "    'Кировская область': {'latitude': 58.6035, 'longitude': 49.6678},\n",
        "    'Костромская область': {'latitude': 57.7679, 'longitude': 40.9269},\n",
        "    'Краснодарский край': {'latitude': 45.0355, 'longitude': 38.9753},\n",
        "    'Красноярский край': {'latitude': 56.0153, 'longitude': 92.8932},\n",
        "    'Курганская область': {'latitude': 55.4443, 'longitude': 65.3161},\n",
        "    'Курская область': {'latitude': 51.7304, 'longitude': 36.1926},\n",
        "    'Ленинградская область': {'latitude': 59.9386, 'longitude': 30.3141},\n",
        "    'Липецкая область': {'latitude': 52.6031, 'longitude': 39.5708},\n",
        "    'Магаданская область': {'latitude': 59.5682, 'longitude': 150.8085},\n",
        "    'Московская область': {'latitude': 55.7558, 'longitude': 37.6178},\n",
        "    'Мурманская область': {'latitude': 68.9792, 'longitude': 33.0925},\n",
        "    'Ненецкий автономный округ': {'latitude': 67.6382, 'longitude': 53.0031},\n",
        "    'Нижегородская область': {'latitude': 56.2965, 'longitude': 43.9361},\n",
        "    'Новгородская область': {'latitude': 58.5215, 'longitude': 31.2755},\n",
        "    'Новосибирская область': {'latitude': 55.0084, 'longitude': 82.9357},\n",
        "    'Омская область': {'latitude': 54.9914, 'longitude': 73.3715},\n",
        "    'Оренбургская область': {'latitude': 51.7682, 'longitude': 55.0968},\n",
        "    'Орловская область': {'latitude': 52.9673, 'longitude': 36.0696},\n",
        "    'Пензенская область': {'latitude': 53.175, 'longitude': 45.0348},\n",
        "    'Пермский край': {'latitude': 58.0105, 'longitude': 56.2502},\n",
        "    'Приморский край': {'latitude': 43.1155, 'longitude': 131.8855},\n",
        "    'Псковская область': {'latitude': 57.8193, 'longitude': 28.3318},\n",
        "    'Республика Адыгея': {'latitude': 44.6098, 'longitude': 40.1006},\n",
        "    'Республика Алтай': {'latitude': 51.958, 'longitude': 85.9603},\n",
        "    'Республика Башкортостан': {'latitude': 54.7388, 'longitude': 55.9721},\n",
        "    'Республика Бурятия': {'latitude': 51.8335, 'longitude': 107.5842},\n",
        "    'Республика Дагестан': {'latitude': 42.9849, 'longitude': 47.5047},\n",
        "    'Республика Ингушетия': {'latitude': 43.1675, 'longitude': 44.8169},\n",
        "    'Республика Калмыкия': {'latitude': 46.3083, 'longitude': 44.2706},\n",
        "    'Республика Карачаево-Черкесия': {'latitude': 43.7731, 'longitude': 41.9239},\n",
        "    'Республика Карелия': {'latitude': 61.7891, 'longitude': 34.3596},\n",
        "    'Республика Коми': {'latitude': 61.6689, 'longitude': 50.8356},\n",
        "    'Республика Крым': {'latitude': 44.9521, 'longitude': 34.1024},\n",
        "    'Республика Марий Эл': {'latitude': 56.6344, 'longitude': 47.8999},\n",
        "    'Республика Мордовия': {'latitude': 54.1808, 'longitude': 45.1869},\n",
        "    'Республика Саха (Якутия)': {'latitude': 62.0272, 'longitude': 129.7326},\n",
        "'Республика Северная Осетия-Алания': {'latitude': 43.0241, 'longitude': 44.6819},\n",
        "    'Республика Татарстан': {'latitude': 55.7903, 'longitude': 49.1347},\n",
        "    'Республика Тыва': {'latitude': 51.7191, 'longitude': 94.437},\n",
        "    'Республика Хакасия': {'latitude': 53.7203, 'longitude': 91.4424},\n",
        "    'Ростовская область': {'latitude': 47.2357, 'longitude': 39.7015},\n",
        "    'Рязанская область': {'latitude': 54.6197, 'longitude': 39.744},\n",
        "    'Самарская область': {'latitude': 53.1959, 'longitude': 50.1008},\n",
        "    'Саратовская область': {'latitude': 51.5304, 'longitude': 46.0342},\n",
        "    'Сахалинская область': {'latitude': 46.9591, 'longitude': 142.7381},\n",
        "    'Свердловская область': {'latitude': 56.8389, 'longitude': 60.6057},\n",
        "    'Смоленская область': {'latitude': 54.7826, 'longitude': 32.0453},\n",
        "    'Ставропольский край': {'latitude': 45.0448, 'longitude': 41.969},\n",
        "    'Тамбовская область': {'latitude': 52.7212, 'longitude': 41.4523},\n",
        "    'Томская область': {'latitude': 56.501, 'longitude': 84.9925},\n",
        "    'Тульская область': {'latitude': 54.193, 'longitude': 37.6177},\n",
        "    'Тюменская область': {'latitude': 57.153, 'longitude': 65.5272},\n",
        "    'Удмуртская Республика': {'latitude': 56.8526, 'longitude': 53.2045},\n",
        "    'Ульяновская область': {'latitude': 54.3081, 'longitude': 48.3748},\n",
        "    'Хабаровский край': {'latitude': 48.4827, 'longitude': 135.0838},\n",
        "    'Ханты-Мансийский автономный округ-Югра': {'latitude': 61.0042, 'longitude': 69.0019},\n",
        "    'Челябинская область': {'latitude': 55.1644, 'longitude': 61.4368},\n",
        "    'Чеченская Республика': {'latitude': 43.3178, 'longitude': 45.6986},\n",
        "    'Чувашская Республика': {'latitude': 56.1439, 'longitude': 47.2489},\n",
        "    'Чукотский автономный округ': {'latitude': 64.7337, 'longitude': 177.5089},\n",
        "    'Ямало-Ненецкий автономный округ': {'latitude': 66.53, 'longitude': 66.56},\n",
        "    'Ярославская область': {'latitude': 57.6261, 'longitude': 39.8845}\n",
        "}"
      ],
      "metadata": {
        "id": "3VBSa-IISXvF"
      },
      "execution_count": null,
      "outputs": []
    },
    {
      "cell_type": "code",
      "source": [
        "import pandas as pd\n",
        "\n",
        "df = pd.read_csv('/content/final_clean.csv')\n",
        "\n",
        "def get_latitude(region):\n",
        "    return region_coords.get(region, {}).get('latitude')\n",
        "\n",
        "def get_longitude(region):\n",
        "    return region_coords.get(region, {}).get('longitude')\n",
        "\n",
        "df['latitude'] = df['region'].apply(get_latitude)\n",
        "df['longitude'] = df['region'].apply(get_longitude)\n",
        "\n",
        "df.to_csv('/content/final_with_coords.csv', index=False)\n"
      ],
      "metadata": {
        "colab": {
          "base_uri": "https://localhost:8080/"
        },
        "id": "6_OF5x0MSZD7",
        "outputId": "e393d045-a948-41ba-f5be-3ad8806a25fc"
      },
      "execution_count": null,
      "outputs": [
        {
          "output_type": "stream",
          "name": "stdout",
          "text": [
            "✅ Координаты добавлены и сохранены в 'final_with_coords.csv'\n"
          ]
        }
      ]
    },
    {
      "cell_type": "code",
      "source": [
        "import pandas as pd\n",
        "\n",
        "df = pd.read_csv('/content/final_with_coords.csv')\n",
        "print(df.columns.tolist())"
      ],
      "metadata": {
        "colab": {
          "base_uri": "https://localhost:8080/"
        },
        "id": "vNiD_IbzTtXb",
        "outputId": "5e2e531f-97ec-4d93-9985-5b99fc6ecd76"
      },
      "execution_count": null,
      "outputs": [
        {
          "output_type": "stream",
          "name": "stdout",
          "text": [
            "['id', 'predicted_result_type', 'sentence_year', 'sentence_months', 'sentence_days', 'sentence_hours', 'is_suspended', 'suspension_years', 'suspension_months', 'fine_is_fixed', 'fine_amount', 'drug_weight', 'entry_date', 'result_date', 'in_favorites', 'court', 'codex_articles', 'defendants_simple', 'penalty', 'penalty_type', 'penalty_value', 'result_type', 'result_text', 'result_text_url', 'court_city', 'region', 'type', 'stage', 'url', 'appeal_date', 'defendants_gender', 'judge', 'case_number', 'last_scheduled_hearing_date', 'sm_url', 'latitude', 'longitude']\n"
          ]
        }
      ]
    },
    {
      "cell_type": "code",
      "source": [
        "import pandas as pd\n",
        "\n",
        "\n",
        "df = pd.read_csv('/content/final_clean.csv')\n",
        "\n",
        "columns_to_keep = [\n",
        "    'id', 'predicted_result_type', 'sentence_year', 'sentence_months',\n",
        "    'sentence_days', 'sentence_hours', 'is_suspended', 'suspension_years',\n",
        "    'suspension_months', 'fine_is_fixed', 'fine_amount', 'drug_weight',\n",
        "    'entry_date', 'result_date', 'court', 'codex_articles',\n",
        "    'result_type', 'region', 'defendants_gender'\n",
        "]\n",
        "\n",
        "df_trimmed = df[columns_to_keep]\n",
        "\n",
        "\n",
        "df_trimmed.to_csv('/content/clean_noresult.csv', index=False)\n",
        "\n"
      ],
      "metadata": {
        "id": "uiEtgKTe3F2m"
      },
      "execution_count": null,
      "outputs": []
    },
    {
      "cell_type": "code",
      "source": [
        "print(df_trimmed['defendants_gender'].value_counts(dropna=False))"
      ],
      "metadata": {
        "colab": {
          "base_uri": "https://localhost:8080/"
        },
        "id": "fl2v33xU3rTQ",
        "outputId": "4639c665-7827-466f-80b4-8c2abf6f8a6b"
      },
      "execution_count": null,
      "outputs": [
        {
          "output_type": "stream",
          "name": "stdout",
          "text": [
            "defendants_gender\n",
            "М                                     8254\n",
            "Ж                                      770\n",
            "-                                      442\n",
            "М, М                                   179\n",
            "NaN                                     66\n",
            "М, Ж                                    22\n",
            "Ж, М                                    16\n",
            "М, М, М                                 14\n",
            "М, -                                    11\n",
            "-, М                                     9\n",
            "Ж, Ж                                     7\n",
            "М, М, М, М, М                            4\n",
            "-, -                                     3\n",
            "М, М, М, М                               3\n",
            "Ж, М, М                                  2\n",
            "М, -, М                                  2\n",
            "М, Ж, М                                  2\n",
            "М, М, Ж, М                               2\n",
            "М, -, Ж                                  1\n",
            "М, М, М, М, М, М                         1\n",
            "М, М, Ж                                  1\n",
            "М, -, М, Ж, М, Ж, М, М, -, М, Ж, Ж       1\n",
            "М, М, М, М, М, М, М                      1\n",
            "М, М, М, Ж, М                            1\n",
            "-, М, М                                  1\n",
            "-, -, М                                  1\n",
            "М, М, М, Ж                               1\n",
            "М, Ж, М, М, М, Ж, М, М                   1\n",
            "Name: count, dtype: int64\n"
          ]
        }
      ]
    },
    {
      "cell_type": "code",
      "source": [
        "import pandas as pd\n",
        "\n",
        "df = pd.read_csv('/content/clean_noresult.csv')\n",
        "\n",
        "\n",
        "def normalize_gender(value):\n",
        "    if pd.isna(value) or value.strip() == '':\n",
        "        return 'неизвестно'\n",
        "\n",
        "    parts = [x.strip().lower() for x in value.split(',')]\n",
        "\n",
        "    genders = set()\n",
        "    for p in parts:\n",
        "        if p in ['м', 'm', 'муж']:\n",
        "            genders.add('муж')\n",
        "        elif p in ['ж', 'ж.', 'w', 'жен']:\n",
        "            genders.add('жен')\n",
        "        elif p in ['-', '–', '—']:\n",
        "            continue\n",
        "        else:\n",
        "            genders.add('неизвестно')\n",
        "\n",
        "    if not genders:\n",
        "        return 'неизвестно'\n",
        "    elif genders == {'муж'}:\n",
        "        return 'муж'\n",
        "    elif genders == {'жен'}:\n",
        "        return 'жен'\n",
        "    elif 'неизвестно' in genders and len(genders) == 1:\n",
        "        return 'неизвестно'\n",
        "    else:\n",
        "        return 'смешанный'\n",
        "\n",
        "\n",
        "df['gender_group'] = df['defendants_gender'].apply(normalize_gender)\n",
        "df.drop(columns=['defendants_gender'], inplace=True)\n",
        "df.to_csv('/content/clean_noresu222lt.csv', index=False)\n"
      ],
      "metadata": {
        "colab": {
          "base_uri": "https://localhost:8080/"
        },
        "id": "CrzVYfc34dnk",
        "outputId": "29a261b3-d326-42fe-e02b-062cac75ac2e"
      },
      "execution_count": null,
      "outputs": [
        {
          "output_type": "stream",
          "name": "stdout",
          "text": [
            "✅ Файл сохранён: clean_noresult_with_gender.csv\n"
          ]
        }
      ]
    },
    {
      "cell_type": "code",
      "source": [
        "import pandas as pd\n",
        "\n",
        "df = pd.read_csv('/content/clean_noresu222lt.csv')\n"
      ],
      "metadata": {
        "id": "dpnzWUpN5KZh"
      },
      "execution_count": null,
      "outputs": []
    },
    {
      "cell_type": "code",
      "source": [
        "print(\" Типы данных:\")\n",
        "print(df.dtypes)\n",
        "\n",
        "print(\"\\n Пропуски по столбцам:\")\n",
        "print(df.isnull().sum())\n",
        "\n",
        "print(\"\\n Размер датафрейма:\")\n",
        "print(f\"{df.shape[0]} строк, {df.shape[1]} колонок\")\n"
      ],
      "metadata": {
        "colab": {
          "base_uri": "https://localhost:8080/"
        },
        "id": "Q3VIBqFl5eee",
        "outputId": "ad8cd651-de10-49ca-c651-fa6931583c91"
      },
      "execution_count": null,
      "outputs": [
        {
          "output_type": "stream",
          "name": "stdout",
          "text": [
            "👀 Типы данных:\n",
            "id                        object\n",
            "predicted_result_type     object\n",
            "sentence_year            float64\n",
            "sentence_months          float64\n",
            "sentence_days            float64\n",
            "sentence_hours           float64\n",
            "is_suspended             float64\n",
            "suspension_years         float64\n",
            "suspension_months        float64\n",
            "fine_is_fixed            float64\n",
            "fine_amount              float64\n",
            "drug_weight               object\n",
            "entry_date                object\n",
            "result_date               object\n",
            "court                     object\n",
            "codex_articles            object\n",
            "result_type               object\n",
            "region                    object\n",
            "gender_group              object\n",
            "dtype: object\n",
            "\n",
            "🧼 Пропуски по столбцам:\n",
            "id                          0\n",
            "predicted_result_type      35\n",
            "sentence_year              35\n",
            "sentence_months            35\n",
            "sentence_days              35\n",
            "sentence_hours             35\n",
            "is_suspended               35\n",
            "suspension_years           35\n",
            "suspension_months          35\n",
            "fine_is_fixed              35\n",
            "fine_amount                35\n",
            "drug_weight              3307\n",
            "entry_date                 15\n",
            "result_date               275\n",
            "court                      25\n",
            "codex_articles             26\n",
            "result_type               304\n",
            "region                     36\n",
            "gender_group                0\n",
            "dtype: int64\n",
            "\n",
            "📐 Размер датафрейма:\n",
            "9818 строк, 19 колонок\n"
          ]
        }
      ]
    },
    {
      "cell_type": "code",
      "source": [
        "df['drug_weight'] = (\n",
        "    df['drug_weight']\n",
        "    .astype(str)\n",
        "    .str.replace(',', '.', regex=False)\n",
        "    .str.extract(r'(\\d+(?:\\.\\d+)?)')[0]\n",
        "    .astype(float)\n",
        ")\n"
      ],
      "metadata": {
        "id": "zM5rjbPQ53QW"
      },
      "execution_count": null,
      "outputs": []
    },
    {
      "cell_type": "code",
      "source": [
        "df['is_suspended'] = df['is_suspended'].astype('boolean')\n",
        "df['fine_is_fixed'] = df['fine_is_fixed'].astype('boolean')\n"
      ],
      "metadata": {
        "id": "1zGEos_P532u"
      },
      "execution_count": null,
      "outputs": []
    },
    {
      "cell_type": "code",
      "source": [
        "df['gender_group'] = df['gender_group'].astype('category')\n"
      ],
      "metadata": {
        "id": "LF7mCiB_55-Y"
      },
      "execution_count": null,
      "outputs": []
    },
    {
      "cell_type": "code",
      "source": [
        "print(\"\\n Описание числовых колонок:\")\n",
        "print(df.describe())\n"
      ],
      "metadata": {
        "colab": {
          "base_uri": "https://localhost:8080/"
        },
        "id": "CtHEA38O5iLQ",
        "outputId": "e473805d-596e-42f1-c221-82657da8ba49"
      },
      "execution_count": null,
      "outputs": [
        {
          "output_type": "stream",
          "name": "stdout",
          "text": [
            "\n",
            "📊 Описание числовых колонок:\n",
            "       sentence_year  sentence_months  sentence_days  sentence_hours  \\\n",
            "count    9783.000000      9783.000000    9783.000000     9783.000000   \n",
            "mean        0.856690        20.765818       6.941327       17.377389   \n",
            "std         1.441104       645.377884     394.899410       68.020506   \n",
            "min         0.000000         0.000000       0.000000        0.000000   \n",
            "25%         0.000000         0.000000       0.000000        0.000000   \n",
            "50%         0.000000         0.000000       0.000000        0.000000   \n",
            "75%         1.000000         0.000000       0.000000        0.000000   \n",
            "max        40.000000     30000.000000   30000.000000      480.000000   \n",
            "\n",
            "       suspension_years  suspension_months    fine_amount  drug_weight  \n",
            "count       9783.000000        9783.000000    9783.000000  6511.000000  \n",
            "mean           0.502504           0.254114    2569.389758    82.238983  \n",
            "std            1.103223           1.160512    9835.995227   387.060635  \n",
            "min            0.000000           0.000000       0.000000     0.008000  \n",
            "25%            0.000000           0.000000       0.000000     0.604000  \n",
            "50%            0.000000           0.000000       0.000000     1.930000  \n",
            "75%            0.000000           0.000000       0.000000    22.455000  \n",
            "max           50.000000          11.000000  400000.000000  9555.072000  \n"
          ]
        }
      ]
    },
    {
      "cell_type": "code",
      "source": [
        "print(\"\\nКатегориальные поля:\")\n",
        "for col in df.columns:\n",
        "    if df[col].nunique() <= 20:\n",
        "        print(f\"\\n🧩 {col} ({df[col].nunique()} уникальных):\")\n",
        "        print(df[col].value_counts(dropna=False))\n"
      ],
      "metadata": {
        "colab": {
          "base_uri": "https://localhost:8080/"
        },
        "id": "iNm4l9Kn5j6B",
        "outputId": "dc93fafd-dd11-45f4-f301-e86940e3acf1"
      },
      "execution_count": null,
      "outputs": [
        {
          "output_type": "stream",
          "name": "stdout",
          "text": [
            "\n",
            "🔠 Категориальные поля:\n",
            "\n",
            "🧩 predicted_result_type (6 уникальных):\n",
            "predicted_result_type\n",
            "штраф                    4445\n",
            "условное осуждение       3530\n",
            "лишение свободы          1203\n",
            "обязательные работы       599\n",
            "NaN                        35\n",
            "исправительные работы       4\n",
            "ограничение свободы         2\n",
            "Name: count, dtype: int64\n",
            "\n",
            "🧩 sentence_year (14 уникальных):\n",
            "sentence_year\n",
            "0.0     6253\n",
            "3.0     1755\n",
            "1.0     1332\n",
            "4.0      181\n",
            "2.0      161\n",
            "NaN       35\n",
            "6.0       34\n",
            "5.0       21\n",
            "8.0       18\n",
            "10.0      10\n",
            "7.0       10\n",
            "9.0        4\n",
            "14.0       2\n",
            "40.0       1\n",
            "11.0       1\n",
            "Name: count, dtype: int64\n",
            "\n",
            "🧩 is_suspended (2 уникальных):\n",
            "is_suspended\n",
            "False    6817\n",
            "True     2966\n",
            "<NA>       35\n",
            "Name: count, dtype: Int64\n",
            "\n",
            "🧩 suspension_years (7 уникальных):\n",
            "suspension_years\n",
            "0.0     7396\n",
            "2.0      832\n",
            "1.0      794\n",
            "3.0      641\n",
            "4.0      110\n",
            "NaN       35\n",
            "5.0        9\n",
            "50.0       1\n",
            "Name: count, dtype: int64\n",
            "\n",
            "🧩 suspension_months (11 уникальных):\n",
            "suspension_months\n",
            "0.0     9154\n",
            "6.0      277\n",
            "1.0      190\n",
            "2.0       64\n",
            "3.0       55\n",
            "NaN       35\n",
            "8.0       15\n",
            "10.0      11\n",
            "4.0        8\n",
            "9.0        6\n",
            "7.0        2\n",
            "11.0       1\n",
            "Name: count, dtype: int64\n",
            "\n",
            "🧩 fine_is_fixed (2 уникальных):\n",
            "fine_is_fixed\n",
            "True     6878\n",
            "False    2905\n",
            "<NA>       35\n",
            "Name: count, dtype: Int64\n",
            "\n",
            "🧩 gender_group (4 уникальных):\n",
            "gender_group\n",
            "муж           8480\n",
            "жен            777\n",
            "неизвестно     511\n",
            "смешанный       50\n",
            "Name: count, dtype: int64\n"
          ]
        }
      ]
    },
    {
      "cell_type": "code",
      "source": [
        "import pandas as pd\n",
        "\n",
        "\n",
        "df = pd.read_csv('/content/clean_noresu222lt.csv')\n",
        "\n",
        "df['drug_weight'] = (\n",
        "    df['drug_weight']\n",
        "    .astype(str)\n",
        "    .str.replace(',', '.', regex=False)\n",
        "    .str.extract(r'(\\d+(?:\\.\\d+)?)')[0]\n",
        "    .astype(float)\n",
        ")\n",
        "\n",
        "df['is_suspended'] = df['is_suspended'].astype('boolean')\n",
        "df['fine_is_fixed'] = df['fine_is_fixed'].astype('boolean')\n",
        "\n",
        "df['entry_date'] = pd.to_datetime(df['entry_date'], errors='coerce')\n",
        "df['result_date'] = pd.to_datetime(df['result_date'], errors='coerce')\n",
        "\n",
        "df['gender_group'] = df['gender_group'].astype('category')\n",
        "\n",
        "df.to_csv('/content/clean_noresult_final.csv', index=False)"
      ],
      "metadata": {
        "colab": {
          "base_uri": "https://localhost:8080/"
        },
        "id": "PObJRIJJ6g8F",
        "outputId": "1c969c87-5f92-4f40-bfa3-3d2a4afd2b0b"
      },
      "execution_count": null,
      "outputs": [
        {
          "output_type": "stream",
          "name": "stderr",
          "text": [
            "<ipython-input-46-e7fcb76c300a>:21: UserWarning: Parsing dates in %d.%m.%Y format when dayfirst=False (the default) was specified. Pass `dayfirst=True` or specify a format to silence this warning.\n",
            "  df['entry_date'] = pd.to_datetime(df['entry_date'], errors='coerce')\n"
          ]
        },
        {
          "output_type": "stream",
          "name": "stdout",
          "text": [
            "✅ Готово! Финальный датасет сохранён: clean_noresult_final.csv\n"
          ]
        }
      ]
    }
  ]
}